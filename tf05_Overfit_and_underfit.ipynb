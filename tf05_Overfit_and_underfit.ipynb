{
 "cells": [
  {
   "cell_type": "markdown",
   "id": "furnished-company",
   "metadata": {},
   "source": [
    "# Overfit and underfit\n",
    "\n",
    "## Table of contents\n",
    "Setup   \n",
    "The Higgs Dataset   \n",
    "Demonstrate overfiting\n",
    "   - Training procedure\n",
    "   - Tiny model\n",
    "   - Small model\n",
    "   - Medium model\n",
    "   - Large model\n",
    "   - Plot the training and validation lossses\n",
    "   - View in TensorBoard   \n",
    "\n",
    "Strategies to prevent overfiting\n",
    "   - Add weight regularization\n",
    "   - Add dropout\n",
    "   - Combined L2 + dropout\n",
    "   - View in TensorBoard   \n",
    "\n",
    "Conclosions"
   ]
  },
  {
   "cell_type": "markdown",
   "id": "naval-explosion",
   "metadata": {},
   "source": [
    "# Setup\n",
    "\n",
    "시작하기 전 필요한 패키지를 가져옵시다!"
   ]
  },
  {
   "cell_type": "code",
   "execution_count": 1,
   "id": "incoming-employment",
   "metadata": {},
   "outputs": [
    {
     "name": "stdout",
     "output_type": "stream",
     "text": [
      "2.4.0\n"
     ]
    }
   ],
   "source": [
    "import tensorflow as tf\n",
    "\n",
    "from tensorflow.keras import layers\n",
    "from tensorflow.keras import regularizers\n",
    "\n",
    "print(tf.__version__)"
   ]
  },
  {
   "cell_type": "code",
   "execution_count": 2,
   "id": "turned-norfolk",
   "metadata": {},
   "outputs": [
    {
     "name": "stdout",
     "output_type": "stream",
     "text": [
      "Collecting git+https://github.com/tensorflow/docs\n",
      "  Cloning https://github.com/tensorflow/docs to /tmp/pip-req-build-0wmyx_0d\n",
      "Requirement already satisfied: absl-py in /opt/conda/lib/python3.7/site-packages (from tensorflow-docs===0.0.0e2abff4864c2895987c866a18db399991e0d7f50-) (0.10.0)\n",
      "Requirement already satisfied: protobuf>=3.14 in /opt/conda/lib/python3.7/site-packages (from tensorflow-docs===0.0.0e2abff4864c2895987c866a18db399991e0d7f50-) (3.14.0)\n",
      "Requirement already satisfied: pyyaml in /opt/conda/lib/python3.7/site-packages (from tensorflow-docs===0.0.0e2abff4864c2895987c866a18db399991e0d7f50-) (5.3.1)\n",
      "Requirement already satisfied: six>=1.9 in /opt/conda/lib/python3.7/site-packages (from protobuf>=3.14->tensorflow-docs===0.0.0e2abff4864c2895987c866a18db399991e0d7f50-) (1.15.0)\n",
      "Collecting astor\n",
      "  Downloading astor-0.8.1-py2.py3-none-any.whl (27 kB)\n",
      "Building wheels for collected packages: tensorflow-docs\n",
      "  Building wheel for tensorflow-docs (setup.py) ... \u001b[?25ldone\n",
      "\u001b[?25h  Created wheel for tensorflow-docs: filename=tensorflow_docs-0.0.0e2abff4864c2895987c866a18db399991e0d7f50_-py3-none-any.whl size=150455 sha256=3e3c10cbcd3c455fd419e41e0bb42e6a8d6b78e5064dfbca7b7f0d876b9008cb\n",
      "  Stored in directory: /tmp/pip-ephem-wheel-cache-ua72pajq/wheels/cc/c4/d8/5341e93b6376c5c929c49469fce21155eb69cef1a4da4ce32c\n",
      "Successfully built tensorflow-docs\n",
      "Installing collected packages: astor, tensorflow-docs\n",
      "Successfully installed astor-0.8.1 tensorflow-docs-0.0.0e2abff4864c2895987c866a18db399991e0d7f50-\n",
      "\u001b[33mWARNING: You are using pip version 20.3.3; however, version 21.2.4 is available.\n",
      "You should consider upgrading via the '/opt/conda/bin/python3.7 -m pip install --upgrade pip' command.\u001b[0m\n"
     ]
    }
   ],
   "source": [
    "!pip install git+https://github.com/tensorflow/docs\n",
    "\n",
    "import tensorflow_docs as tfdocs\n",
    "import tensorflow_docs.modeling\n",
    "import tensorflow_docs.plots"
   ]
  },
  {
   "cell_type": "code",
   "execution_count": 3,
   "id": "aquatic-proof",
   "metadata": {},
   "outputs": [],
   "source": [
    "from  IPython import display\n",
    "from matplotlib import pyplot as plt\n",
    "\n",
    "import numpy as np\n",
    "\n",
    "import pathlib\n",
    "import shutil\n",
    "import tempfile"
   ]
  },
  {
   "cell_type": "code",
   "execution_count": 4,
   "id": "likely-official",
   "metadata": {},
   "outputs": [],
   "source": [
    "logdir = pathlib.Path(tempfile.mkdtemp())/\"tensorboard_logs\"\n",
    "shutil.rmtree(logdir, ignore_errors=True)"
   ]
  },
  {
   "cell_type": "markdown",
   "id": "changed-civilization",
   "metadata": {},
   "source": [
    "# The Higgs Dataset\n",
    "\n",
    "이 튜토리얼의 목표는 입자 물리학의 수행이 아니므로 데이터 세트의 세부 사항에는 집착하지 않아도 됩니다!   \n",
    "여기에는 각각 28개의 feature가 있고 binary class label이 있는 11,000,000개의 예제가 포함되어 있습니다!"
   ]
  },
  {
   "cell_type": "code",
   "execution_count": 5,
   "id": "central-melissa",
   "metadata": {},
   "outputs": [
    {
     "name": "stdout",
     "output_type": "stream",
     "text": [
      "Downloading data from http://mlphysics.ics.uci.edu/data/higgs/HIGGS.csv.gz\n",
      "2816409600/2816407858 [==============================] - 28s 0us/step\n"
     ]
    }
   ],
   "source": [
    "gz = tf.keras.utils.get_file('HIGGS.csv.gz',\n",
    "                             'http://mlphysics.ics.uci.edu/data/higgs/HIGGS.csv.gz')"
   ]
  },
  {
   "cell_type": "code",
   "execution_count": 6,
   "id": "activated-stack",
   "metadata": {},
   "outputs": [],
   "source": [
    "FEATURES = 28"
   ]
  },
  {
   "cell_type": "markdown",
   "id": "bronze-craft",
   "metadata": {},
   "source": [
    "**tf.data.experimental.CsvDataset** 의 클래스는 csv, gzip 파일로 읽을 수 있습니다."
   ]
  },
  {
   "cell_type": "code",
   "execution_count": 7,
   "id": "civic-combination",
   "metadata": {},
   "outputs": [],
   "source": [
    "ds = tf.data.experimental.CsvDataset(gz,[float(),]*(FEATURES+1),\n",
    "                                     compression_type=\"GZIP\")"
   ]
  },
  {
   "cell_type": "markdown",
   "id": "assisted-blend",
   "metadata": {},
   "source": [
    "csv는 각각의 리스트에 대한 스칼라 목록을 반환합니다. 또한, 다음 함수는 해당 스칼라 목록을 (feature_vector, label) 쌍으로 다시 압축합니다."
   ]
  },
  {
   "cell_type": "code",
   "execution_count": 8,
   "id": "informative-superior",
   "metadata": {},
   "outputs": [],
   "source": [
    "def pack_row(*row):\n",
    "    label = row[0]\n",
    "    features = tf.stack(row[1:],1)\n",
    "    return features, label"
   ]
  },
  {
   "cell_type": "markdown",
   "id": "tamil-syndrome",
   "metadata": {},
   "source": [
    "TensorFlow는 대규모 데이터 배치에서 작업할 때 가장 효율적입니다.\n",
    "\n",
    "따라서 각 행을 개별적으로 다시 포장하는 대신 Dataset 10,000개 배치를 만들어 'pack_row' 각 배치에 기능을 적용한 배치를 각각 다음 분할하는 작업을 합니다."
   ]
  },
  {
   "cell_type": "code",
   "execution_count": 9,
   "id": "fixed-portal",
   "metadata": {},
   "outputs": [],
   "source": [
    "packed_ds = ds.batch(10000).map(pack_row).unbatch()"
   ]
  },
  {
   "cell_type": "markdown",
   "id": "refined-melissa",
   "metadata": {},
   "source": [
    "packed_ds의 기록을 보면, 완벽하게 정규화 되진 않았지만 이 튜토리얼에서는 이것으로 충분합니다."
   ]
  },
  {
   "cell_type": "code",
   "execution_count": 10,
   "id": "purple-vampire",
   "metadata": {},
   "outputs": [
    {
     "name": "stdout",
     "output_type": "stream",
     "text": [
      "tf.Tensor(\n",
      "[ 0.8692932  -0.6350818   0.22569026  0.32747006 -0.6899932   0.75420225\n",
      " -0.24857314 -1.0920639   0.          1.3749921  -0.6536742   0.9303491\n",
      "  1.1074361   1.1389043  -1.5781983  -1.0469854   0.          0.65792954\n",
      " -0.01045457 -0.04576717  3.1019614   1.35376     0.9795631   0.97807616\n",
      "  0.92000484  0.72165745  0.98875093  0.87667835], shape=(28,), dtype=float32)\n"
     ]
    },
    {
     "data": {
      "image/png": "[encoded data removed]",
      "text/plain": [
       "<Figure size 432x288 with 1 Axes>"
      ]
     },
     "metadata": {
      "needs_background": "light"
     },
     "output_type": "display_data"
    }
   ],
   "source": [
    "for features,label in packed_ds.batch(1000).take(1):\n",
    "    print(features[0])\n",
    "    plt.hist(features.numpy().flatten(), bins = 101)"
   ]
  },
  {
   "cell_type": "markdown",
   "id": "adopted-installation",
   "metadata": {},
   "source": [
    "이 튜토리얼을 비교적 짧게 유지하려면 처음 1000개의 샘플만 검증에 사용하고 다음 10,000개는 훈련에 사용합니다."
   ]
  },
  {
   "cell_type": "code",
   "execution_count": 11,
   "id": "dedicated-orange",
   "metadata": {},
   "outputs": [],
   "source": [
    "N_VALIDATION = int(1e3)\n",
    "N_TRAIN = int(1e4)\n",
    "BUFFER_SIZE = int(1e4)\n",
    "BATCH_SIZE = 500\n",
    "STEPS_PER_EPOCH = N_TRAIN//BATCH_SIZE"
   ]
  },
  {
   "cell_type": "markdown",
   "id": "comprehensive-picture",
   "metadata": {},
   "source": [
    "Dataset.skip 및 Dataset.take 메서드를 사용합니다.\n",
    "\n",
    "동시에 Dataset.cache 메서드를 사용하여 각 loader가 각 에포크 파일에서 데이터를 다시 읽을 필요가 없도록 만들어줍니다."
   ]
  },
  {
   "cell_type": "code",
   "execution_count": 12,
   "id": "cardiac-disposition",
   "metadata": {},
   "outputs": [],
   "source": [
    "validate_ds = packed_ds.take(N_VALIDATION).cache()\n",
    "train_ds = packed_ds.skip(N_VALIDATION).take(N_TRAIN).cache()"
   ]
  },
  {
   "cell_type": "code",
   "execution_count": 13,
   "id": "greatest-appeal",
   "metadata": {},
   "outputs": [
    {
     "data": {
      "text/plain": [
       "<CacheDataset shapes: ((28,), ()), types: (tf.float32, tf.float32)>"
      ]
     },
     "execution_count": 13,
     "metadata": {},
     "output_type": "execute_result"
    }
   ],
   "source": [
    "train_ds"
   ]
  },
  {
   "cell_type": "markdown",
   "id": "toxic-warren",
   "metadata": {},
   "source": [
    "이런 데이터세트는 개별적인 예시를 반환합니다. **.batch** 메서드를 사용하여 훈련에 적합한 크기의 배치를 만듭니다. 일괄 처리하기 전에 **.shuffle** 과 **.repeat** 훈련 세트도 기억해야 합니다!"
   ]
  },
  {
   "cell_type": "code",
   "execution_count": 14,
   "id": "industrial-rebound",
   "metadata": {},
   "outputs": [],
   "source": [
    "validate_ds = validate_ds.batch(BATCH_SIZE)\n",
    "train_ds = train_ds.shuffle(BUFFER_SIZE).repeat().batch(BATCH_SIZE)"
   ]
  },
  {
   "cell_type": "markdown",
   "id": "olive-anatomy",
   "metadata": {},
   "source": [
    "# Demonstrate overfitting\n",
    "### Training procedure\n",
    "\n",
    "훈련하는 동안 학습률을 점진적으로 낮추면 많은 모델이 더 잘 훈련됩니다. optimizers.schedules 시간이 지남에 따라 학습률을 줄입니다."
   ]
  },
  {
   "cell_type": "code",
   "execution_count": 15,
   "id": "reduced-coordination",
   "metadata": {},
   "outputs": [],
   "source": [
    "lr_schedule = tf.keras.optimizers.schedules.InverseTimeDecay(\n",
    "  0.001,\n",
    "  decay_steps=STEPS_PER_EPOCH*1000,\n",
    "  decay_rate=1,\n",
    "  staircase=False)\n",
    "\n",
    "def get_optimizer():\n",
    "    return tf.keras.optimizers.Adam(lr_schedule)"
   ]
  },
  {
   "cell_type": "markdown",
   "id": "numerical-seeking",
   "metadata": {},
   "source": [
    "위의 코드 **schedules.InverseTimeDecay**는 1000 epoch에서 학습률을 기본 속도의 1/2, 2000 epoch에서 1/3 등으로 쌍곡선적으로 감소하도록 설정합니다."
   ]
  },
  {
   "cell_type": "code",
   "execution_count": 16,
   "id": "surrounded-manner",
   "metadata": {},
   "outputs": [
    {
     "data": {
      "image/png": "[encoded data removed]",
      "text/plain": [
       "<Figure size 576x432 with 1 Axes>"
      ]
     },
     "metadata": {
      "needs_background": "light"
     },
     "output_type": "display_data"
    }
   ],
   "source": [
    "step = np.linspace(0,100000)\n",
    "lr = lr_schedule(step)\n",
    "plt.figure(figsize = (8,6))\n",
    "plt.plot(step/STEPS_PER_EPOCH, lr)\n",
    "plt.ylim([0,max(plt.ylim())])\n",
    "plt.xlabel('Epoch')\n",
    "_ = plt.ylabel('Learning Rate')"
   ]
  },
  {
   "cell_type": "markdown",
   "id": "brilliant-transfer",
   "metadata": {},
   "source": [
    "이 튜토리얼의 훈련은 짧은 시간 동안 실행됩니다. logging noise를 줄이려면 각 epoch에 대해 **tfdocs.EpochDots**을 이용하여 **.** 을 통해 100 epoch마다 전체 matrix를 보여줍니다.\n",
    "\n",
    "다음은 **callbacks.EarlyStopping** 을 통해 불필요한 훈련 시간을 피할 수 있습니다.이 콜백은 val_loss가 아니라 **val_binary_crossentropy** 를 모니터링하도록 설정되어 있습니다. \n",
    "\n",
    "**callbacks.TensorBoard**는 훈련에 대한 TensorBoard 로그를 생성하는데 사용합니다."
   ]
  },
  {
   "cell_type": "code",
   "execution_count": 17,
   "id": "electronic-ballet",
   "metadata": {},
   "outputs": [],
   "source": [
    "def get_callbacks(name):\n",
    "    return [\n",
    "    tfdocs.modeling.EpochDots(),\n",
    "    tf.keras.callbacks.EarlyStopping(monitor='val_binary_crossentropy', patience=200),\n",
    "    tf.keras.callbacks.TensorBoard(logdir/name),\n",
    "  ]"
   ]
  },
  {
   "cell_type": "markdown",
   "id": "chief-county",
   "metadata": {},
   "source": [
    "마찬가지로 각 모델은 똑같이 Model.compile 과 Model.fit 설정이 필요하다."
   ]
  },
  {
   "cell_type": "code",
   "execution_count": 18,
   "id": "indian-killer",
   "metadata": {},
   "outputs": [],
   "source": [
    "def compile_and_fit(model, name, optimizer=None, max_epochs=10000):\n",
    "    if optimizer is None:\n",
    "        optimizer = get_optimizer()\n",
    "        model.compile(optimizer=optimizer,\n",
    "                      loss=tf.keras.losses.BinaryCrossentropy(from_logits=True),\n",
    "                      metrics=[\n",
    "                          tf.keras.losses.BinaryCrossentropy(\n",
    "                              from_logits=True, name='binary_crossentropy'),\n",
    "                          'accuracy'])\n",
    "\n",
    "    model.summary()\n",
    "    \n",
    "    history = model.fit(\n",
    "    train_ds,\n",
    "    steps_per_epoch = STEPS_PER_EPOCH,\n",
    "    epochs=max_epochs,\n",
    "    validation_data=validate_ds,\n",
    "    callbacks=get_callbacks(name),\n",
    "    verbose=0)\n",
    "    return history"
   ]
  },
  {
   "cell_type": "markdown",
   "id": "heated-lottery",
   "metadata": {},
   "source": [
    "### Tiny model\n",
    "Start by training a model:"
   ]
  },
  {
   "cell_type": "code",
   "execution_count": 19,
   "id": "objective-resident",
   "metadata": {},
   "outputs": [],
   "source": [
    "tiny_model = tf.keras.Sequential([\n",
    "    layers.Dense(16, activation='elu', input_shape=(FEATURES,)),\n",
    "    layers.Dense(1)\n",
    "])"
   ]
  },
  {
   "cell_type": "code",
   "execution_count": 20,
   "id": "perfect-chambers",
   "metadata": {},
   "outputs": [],
   "source": [
    "size_histories = {}"
   ]
  },
  {
   "cell_type": "code",
   "execution_count": 21,
   "id": "liked-adjustment",
   "metadata": {},
   "outputs": [
    {
     "name": "stdout",
     "output_type": "stream",
     "text": [
      "Model: \"sequential\"\n",
      "_________________________________________________________________\n",
      "Layer (type)                 Output Shape              Param #   \n",
      "=================================================================\n",
      "dense (Dense)                (None, 16)                464       \n",
      "_________________________________________________________________\n",
      "dense_1 (Dense)              (None, 1)                 17        \n",
      "=================================================================\n",
      "Total params: 481\n",
      "Trainable params: 481\n",
      "Non-trainable params: 0\n",
      "_________________________________________________________________\n",
      "WARNING:tensorflow:Callback method `on_train_batch_end` is slow compared to the batch time (batch time: 0.0022s vs `on_train_batch_end` time: 0.0077s). Check your callbacks.\n",
      "\n",
      "Epoch: 0, accuracy:0.4910,  binary_crossentropy:0.8111,  loss:0.8111,  val_accuracy:0.4980,  val_binary_crossentropy:0.7685,  val_loss:0.7685,  \n",
      "....................................................................................................\n",
      "Epoch: 100, accuracy:0.5931,  binary_crossentropy:0.6274,  loss:0.6274,  val_accuracy:0.5780,  val_binary_crossentropy:0.6350,  val_loss:0.6350,  \n",
      "....................................................................................................\n",
      "Epoch: 200, accuracy:0.6158,  binary_crossentropy:0.6151,  loss:0.6151,  val_accuracy:0.5850,  val_binary_crossentropy:0.6205,  val_loss:0.6205,  \n",
      "....................................................................................................\n",
      "Epoch: 300, accuracy:0.6403,  binary_crossentropy:0.6027,  loss:0.6027,  val_accuracy:0.6140,  val_binary_crossentropy:0.6046,  val_loss:0.6046,  \n",
      "....................................................................................................\n",
      "Epoch: 400, accuracy:0.6551,  binary_crossentropy:0.5952,  loss:0.5952,  val_accuracy:0.6030,  val_binary_crossentropy:0.6009,  val_loss:0.6009,  \n",
      "....................................................................................................\n",
      "Epoch: 500, accuracy:0.6582,  binary_crossentropy:0.5895,  loss:0.5895,  val_accuracy:0.6530,  val_binary_crossentropy:0.5931,  val_loss:0.5931,  \n",
      "....................................................................................................\n",
      "Epoch: 600, accuracy:0.6623,  binary_crossentropy:0.5869,  loss:0.5869,  val_accuracy:0.6480,  val_binary_crossentropy:0.5910,  val_loss:0.5910,  \n",
      "....................................................................................................\n",
      "Epoch: 700, accuracy:0.6701,  binary_crossentropy:0.5846,  loss:0.5846,  val_accuracy:0.6480,  val_binary_crossentropy:0.5896,  val_loss:0.5896,  \n",
      "....................................................................................................\n",
      "Epoch: 800, accuracy:0.6718,  binary_crossentropy:0.5827,  loss:0.5827,  val_accuracy:0.6480,  val_binary_crossentropy:0.5884,  val_loss:0.5884,  \n",
      "....................................................................................................\n",
      "Epoch: 900, accuracy:0.6735,  binary_crossentropy:0.5810,  loss:0.5810,  val_accuracy:0.6520,  val_binary_crossentropy:0.5880,  val_loss:0.5880,  \n",
      "....................................................................................................\n",
      "Epoch: 1000, accuracy:0.6746,  binary_crossentropy:0.5798,  loss:0.5798,  val_accuracy:0.6460,  val_binary_crossentropy:0.5888,  val_loss:0.5888,  \n",
      "....................................................................................................\n",
      "Epoch: 1100, accuracy:0.6729,  binary_crossentropy:0.5787,  loss:0.5787,  val_accuracy:0.6560,  val_binary_crossentropy:0.5856,  val_loss:0.5856,  \n",
      "....................................................................................................\n",
      "Epoch: 1200, accuracy:0.6746,  binary_crossentropy:0.5778,  loss:0.5778,  val_accuracy:0.6520,  val_binary_crossentropy:0.5860,  val_loss:0.5860,  \n",
      "....................................................................................................\n",
      "Epoch: 1300, accuracy:0.6752,  binary_crossentropy:0.5769,  loss:0.5769,  val_accuracy:0.6490,  val_binary_crossentropy:0.5858,  val_loss:0.5858,  \n",
      "....................................................................................................\n",
      "Epoch: 1400, accuracy:0.6763,  binary_crossentropy:0.5763,  loss:0.5763,  val_accuracy:0.6530,  val_binary_crossentropy:0.5857,  val_loss:0.5857,  \n",
      "....................................................................................................\n",
      "Epoch: 1500, accuracy:0.6803,  binary_crossentropy:0.5752,  loss:0.5752,  val_accuracy:0.6470,  val_binary_crossentropy:0.5876,  val_loss:0.5876,  \n",
      "....................................................................................................\n",
      "Epoch: 1600, accuracy:0.6769,  binary_crossentropy:0.5746,  loss:0.5746,  val_accuracy:0.6620,  val_binary_crossentropy:0.5844,  val_loss:0.5844,  \n",
      "....................................................................................................\n",
      "Epoch: 1700, accuracy:0.6773,  binary_crossentropy:0.5742,  loss:0.5742,  val_accuracy:0.6630,  val_binary_crossentropy:0.5848,  val_loss:0.5848,  \n",
      "....................................................................................................\n",
      "Epoch: 1800, accuracy:0.6819,  binary_crossentropy:0.5737,  loss:0.5737,  val_accuracy:0.6640,  val_binary_crossentropy:0.5842,  val_loss:0.5842,  \n",
      "....................................................................................................\n",
      "Epoch: 1900, accuracy:0.6748,  binary_crossentropy:0.5730,  loss:0.5730,  val_accuracy:0.6630,  val_binary_crossentropy:0.5838,  val_loss:0.5838,  \n",
      "....................................................................................................\n",
      "Epoch: 2000, accuracy:0.6781,  binary_crossentropy:0.5721,  loss:0.5721,  val_accuracy:0.6650,  val_binary_crossentropy:0.5833,  val_loss:0.5833,  \n",
      "....................................................................................................\n",
      "Epoch: 2100, accuracy:0.6783,  binary_crossentropy:0.5719,  loss:0.5719,  val_accuracy:0.6580,  val_binary_crossentropy:0.5851,  val_loss:0.5851,  \n",
      "....................................................................................................\n",
      "Epoch: 2200, accuracy:0.6836,  binary_crossentropy:0.5709,  loss:0.5709,  val_accuracy:0.6580,  val_binary_crossentropy:0.5841,  val_loss:0.5841,  \n",
      "....................................................................................................\n",
      "Epoch: 2300, accuracy:0.6820,  binary_crossentropy:0.5704,  loss:0.5704,  val_accuracy:0.6690,  val_binary_crossentropy:0.5828,  val_loss:0.5828,  \n",
      "....................................................................................................\n",
      "Epoch: 2400, accuracy:0.6822,  binary_crossentropy:0.5704,  loss:0.5704,  val_accuracy:0.6680,  val_binary_crossentropy:0.5829,  val_loss:0.5829,  \n",
      "....................................................................................................\n",
      "Epoch: 2500, accuracy:0.6839,  binary_crossentropy:0.5693,  loss:0.5693,  val_accuracy:0.6610,  val_binary_crossentropy:0.5835,  val_loss:0.5835,  \n",
      "....................................................................................................\n",
      "Epoch: 2600, accuracy:0.6827,  binary_crossentropy:0.5691,  loss:0.5691,  val_accuracy:0.6630,  val_binary_crossentropy:0.5826,  val_loss:0.5826,  \n",
      "....................................................................................................\n",
      "Epoch: 2700, accuracy:0.6844,  binary_crossentropy:0.5684,  loss:0.5684,  val_accuracy:0.6640,  val_binary_crossentropy:0.5832,  val_loss:0.5832,  \n",
      "....................................................................................................\n",
      "Epoch: 2800, accuracy:0.6832,  binary_crossentropy:0.5681,  loss:0.5681,  val_accuracy:0.6640,  val_binary_crossentropy:0.5829,  val_loss:0.5829,  \n",
      "..................................................................................."
     ]
    }
   ],
   "source": [
    "size_histories['Tiny'] = compile_and_fit(tiny_model, 'sizes/Tiny')"
   ]
  },
  {
   "cell_type": "markdown",
   "id": "standard-thing",
   "metadata": {},
   "source": [
    "Now check how the model did:"
   ]
  },
  {
   "cell_type": "code",
   "execution_count": 22,
   "id": "abandoned-pipeline",
   "metadata": {},
   "outputs": [
    {
     "data": {
      "text/plain": [
       "(0.5, 0.7)"
      ]
     },
     "execution_count": 22,
     "metadata": {},
     "output_type": "execute_result"
    },
    {
     "data": {
      "image/png": "[encoded data removed]",
      "text/plain": [
       "<Figure size 432x288 with 1 Axes>"
      ]
     },
     "metadata": {
      "needs_background": "light"
     },
     "output_type": "display_data"
    }
   ],
   "source": [
    "plotter = tfdocs.plots.HistoryPlotter(metric = 'binary_crossentropy', smoothing_std=10)\n",
    "plotter.plot(size_histories)\n",
    "plt.ylim([0.5, 0.7])"
   ]
  },
  {
   "cell_type": "markdown",
   "id": "anonymous-coaching",
   "metadata": {},
   "source": [
    "### Small model\n",
    "To see if you can beat the performance of the small model, progressively train some larger models.\n",
    "\n",
    "Try two hidden layers with 16 units each:"
   ]
  },
  {
   "cell_type": "code",
   "execution_count": 23,
   "id": "european-people",
   "metadata": {},
   "outputs": [],
   "source": [
    "small_model = tf.keras.Sequential([\n",
    "    # `input_shape` is only required here so that `.summary` works.\n",
    "    layers.Dense(16, activation='elu', input_shape=(FEATURES,)),\n",
    "    layers.Dense(16, activation='elu'),\n",
    "    layers.Dense(1)\n",
    "])"
   ]
  },
  {
   "cell_type": "code",
   "execution_count": 24,
   "id": "flying-being",
   "metadata": {},
   "outputs": [
    {
     "name": "stdout",
     "output_type": "stream",
     "text": [
      "Model: \"sequential_1\"\n",
      "_________________________________________________________________\n",
      "Layer (type)                 Output Shape              Param #   \n",
      "=================================================================\n",
      "dense_2 (Dense)              (None, 16)                464       \n",
      "_________________________________________________________________\n",
      "dense_3 (Dense)              (None, 16)                272       \n",
      "_________________________________________________________________\n",
      "dense_4 (Dense)              (None, 1)                 17        \n",
      "=================================================================\n",
      "Total params: 753\n",
      "Trainable params: 753\n",
      "Non-trainable params: 0\n",
      "_________________________________________________________________\n",
      "WARNING:tensorflow:Callback method `on_train_batch_end` is slow compared to the batch time (batch time: 0.0020s vs `on_train_batch_end` time: 0.0101s). Check your callbacks.\n",
      "\n",
      "Epoch: 0, accuracy:0.4772,  binary_crossentropy:0.7649,  loss:0.7649,  val_accuracy:0.4890,  val_binary_crossentropy:0.7184,  val_loss:0.7184,  \n",
      "....................................................................................................\n",
      "Epoch: 100, accuracy:0.6298,  binary_crossentropy:0.6108,  loss:0.6108,  val_accuracy:0.5890,  val_binary_crossentropy:0.6201,  val_loss:0.6201,  \n",
      "....................................................................................................\n",
      "Epoch: 200, accuracy:0.6578,  binary_crossentropy:0.5900,  loss:0.5900,  val_accuracy:0.6290,  val_binary_crossentropy:0.6029,  val_loss:0.6029,  \n",
      "....................................................................................................\n",
      "Epoch: 300, accuracy:0.6749,  binary_crossentropy:0.5790,  loss:0.5790,  val_accuracy:0.6600,  val_binary_crossentropy:0.5949,  val_loss:0.5949,  \n",
      "....................................................................................................\n",
      "Epoch: 400, accuracy:0.6844,  binary_crossentropy:0.5728,  loss:0.5728,  val_accuracy:0.6600,  val_binary_crossentropy:0.5962,  val_loss:0.5962,  \n",
      "....................................................................................................\n",
      "Epoch: 500, accuracy:0.6883,  binary_crossentropy:0.5683,  loss:0.5683,  val_accuracy:0.6480,  val_binary_crossentropy:0.5980,  val_loss:0.5980,  \n",
      "."
     ]
    }
   ],
   "source": [
    "size_histories['Small'] = compile_and_fit(small_model, 'sizes/Small')"
   ]
  },
  {
   "cell_type": "markdown",
   "id": "local-edward",
   "metadata": {},
   "source": [
    "### Medium model\n",
    "Now try 3 hidden layers with 64 units each:"
   ]
  },
  {
   "cell_type": "code",
   "execution_count": 25,
   "id": "lyric-kernel",
   "metadata": {},
   "outputs": [],
   "source": [
    "medium_model = tf.keras.Sequential([\n",
    "    layers.Dense(64, activation='elu', input_shape=(FEATURES,)),\n",
    "    layers.Dense(64, activation='elu'),\n",
    "    layers.Dense(64, activation='elu'),\n",
    "    layers.Dense(1)\n",
    "])"
   ]
  },
  {
   "cell_type": "markdown",
   "id": "stuffed-trade",
   "metadata": {},
   "source": [
    "And train the model using the same data:"
   ]
  },
  {
   "cell_type": "code",
   "execution_count": 26,
   "id": "atmospheric-watson",
   "metadata": {},
   "outputs": [
    {
     "name": "stdout",
     "output_type": "stream",
     "text": [
      "Model: \"sequential_2\"\n",
      "_________________________________________________________________\n",
      "Layer (type)                 Output Shape              Param #   \n",
      "=================================================================\n",
      "dense_5 (Dense)              (None, 64)                1856      \n",
      "_________________________________________________________________\n",
      "dense_6 (Dense)              (None, 64)                4160      \n",
      "_________________________________________________________________\n",
      "dense_7 (Dense)              (None, 64)                4160      \n",
      "_________________________________________________________________\n",
      "dense_8 (Dense)              (None, 1)                 65        \n",
      "=================================================================\n",
      "Total params: 10,241\n",
      "Trainable params: 10,241\n",
      "Non-trainable params: 0\n",
      "_________________________________________________________________\n",
      "WARNING:tensorflow:Callback method `on_train_batch_end` is slow compared to the batch time (batch time: 0.0027s vs `on_train_batch_end` time: 0.0106s). Check your callbacks.\n",
      "\n",
      "Epoch: 0, accuracy:0.4812,  binary_crossentropy:0.7164,  loss:0.7164,  val_accuracy:0.4710,  val_binary_crossentropy:0.6828,  val_loss:0.6828,  \n",
      "....................................................................................................\n",
      "Epoch: 100, accuracy:0.7114,  binary_crossentropy:0.5354,  loss:0.5354,  val_accuracy:0.6440,  val_binary_crossentropy:0.6041,  val_loss:0.6041,  \n",
      "....................................................................................................\n",
      "Epoch: 200, accuracy:0.7829,  binary_crossentropy:0.4347,  loss:0.4347,  val_accuracy:0.6570,  val_binary_crossentropy:0.6707,  val_loss:0.6707,  \n",
      "................................................................................"
     ]
    }
   ],
   "source": [
    "size_histories['Medium']  = compile_and_fit(medium_model, \"sizes/Medium\")"
   ]
  },
  {
   "cell_type": "markdown",
   "id": "recovered-geometry",
   "metadata": {},
   "source": [
    "### Large model\n",
    "\n",
    "As an exercise, you can create an even larger model, and see how quickly it begins overfitting. Next, let's add to this benchmark a network that has much more capacity, far more than the problem would warrant:"
   ]
  },
  {
   "cell_type": "code",
   "execution_count": 27,
   "id": "stretch-recorder",
   "metadata": {},
   "outputs": [],
   "source": [
    "large_model = tf.keras.Sequential([\n",
    "    layers.Dense(512, activation='elu', input_shape=(FEATURES,)),\n",
    "    layers.Dense(512, activation='elu'),\n",
    "    layers.Dense(512, activation='elu'),\n",
    "    layers.Dense(512, activation='elu'),\n",
    "    layers.Dense(1)\n",
    "])"
   ]
  },
  {
   "cell_type": "markdown",
   "id": "civic-jordan",
   "metadata": {},
   "source": [
    "And, again, train the model using the same data:"
   ]
  },
  {
   "cell_type": "code",
   "execution_count": 28,
   "id": "divine-jefferson",
   "metadata": {},
   "outputs": [
    {
     "name": "stdout",
     "output_type": "stream",
     "text": [
      "Model: \"sequential_3\"\n",
      "_________________________________________________________________\n",
      "Layer (type)                 Output Shape              Param #   \n",
      "=================================================================\n",
      "dense_9 (Dense)              (None, 512)               14848     \n",
      "_________________________________________________________________\n",
      "dense_10 (Dense)             (None, 512)               262656    \n",
      "_________________________________________________________________\n",
      "dense_11 (Dense)             (None, 512)               262656    \n",
      "_________________________________________________________________\n",
      "dense_12 (Dense)             (None, 512)               262656    \n",
      "_________________________________________________________________\n",
      "dense_13 (Dense)             (None, 1)                 513       \n",
      "=================================================================\n",
      "Total params: 803,329\n",
      "Trainable params: 803,329\n",
      "Non-trainable params: 0\n",
      "_________________________________________________________________\n",
      "\n",
      "Epoch: 0, accuracy:0.5112,  binary_crossentropy:0.7596,  loss:0.7596,  val_accuracy:0.4840,  val_binary_crossentropy:0.6765,  val_loss:0.6765,  \n",
      "....................................................................................................\n",
      "Epoch: 100, accuracy:1.0000,  binary_crossentropy:0.0020,  loss:0.0020,  val_accuracy:0.6510,  val_binary_crossentropy:1.8838,  val_loss:1.8838,  \n",
      "....................................................................................................\n",
      "Epoch: 200, accuracy:1.0000,  binary_crossentropy:0.0001,  loss:0.0001,  val_accuracy:0.6530,  val_binary_crossentropy:2.5523,  val_loss:2.5523,  \n",
      ".................."
     ]
    }
   ],
   "source": [
    "size_histories['large'] = compile_and_fit(large_model, \"sizes/large\")"
   ]
  },
  {
   "cell_type": "markdown",
   "id": "assured-century",
   "metadata": {},
   "source": [
    "### Plot the training and validation losses\n",
    "The solid lines show the training loss, and the dashed lines show the validation loss (remember: a lower validation loss indicates a better model).\n",
    "\n",
    "While building a larger model gives it more power, if this power is not constrained somehow it can easily overfit to the training set.\n",
    "\n",
    "In this example, typically, only the \"Tiny\" model manages to avoid overfitting altogether, and each of the larger models overfit the data more quickly. This becomes so severe for the \"large\" model that you need to switch the plot to a log-scale to really see what's happening.\n",
    "\n",
    "This is apparent if you plot and compare the validation metrics to the training metrics.\n",
    "   - It's normal for there to be a small difference.\n",
    "   - If both metrics are moving in the same direction, everything is fine.\n",
    "   - If the validation metric begins to stagnate while the training metric continues to improve, you are probably close to overfitting.\n",
    "   - If the validation metric is going in the wrong direction, the model is clearly overfitting."
   ]
  },
  {
   "cell_type": "code",
   "execution_count": 29,
   "id": "sensitive-weapon",
   "metadata": {},
   "outputs": [
    {
     "data": {
      "text/plain": [
       "Text(0.5, 0, 'Epochs [Log Scale]')"
      ]
     },
     "execution_count": 29,
     "metadata": {},
     "output_type": "execute_result"
    },
    {
     "data": {
      "image/png": "[encoded data removed]",
      "text/plain": [
       "<Figure size 432x288 with 1 Axes>"
      ]
     },
     "metadata": {
      "needs_background": "light"
     },
     "output_type": "display_data"
    }
   ],
   "source": [
    "plotter.plot(size_histories)\n",
    "a = plt.xscale('log')\n",
    "plt.xlim([5, max(plt.xlim())])\n",
    "plt.ylim([0.5, 0.7])\n",
    "plt.xlabel(\"Epochs [Log Scale]\")"
   ]
  },
  {
   "cell_type": "markdown",
   "id": "upper-nicholas",
   "metadata": {},
   "source": [
    "### View in TensorBoard\n",
    "These models all wrote TensorBoard logs during training.\n",
    "\n",
    "Open an embedded TensorBoard viewer inside a notebook:"
   ]
  },
  {
   "cell_type": "code",
   "execution_count": 30,
   "id": "excellent-thriller",
   "metadata": {},
   "outputs": [
    {
     "data": {
      "text/html": [
       "\n",
       "      <iframe id=\"tensorboard-frame-977b2536fe8ee483\" width=\"100%\" height=\"800\" frameborder=\"0\">\n",
       "      </iframe>\n",
       "      <script>\n",
       "        (function() {\n",
       "          const frame = document.getElementById(\"tensorboard-frame-977b2536fe8ee483\");\n",
       "          const url = new URL(\"/\", window.location);\n",
       "          const port = 6006;\n",
       "          if (port) {\n",
       "            url.port = port;\n",
       "          }\n",
       "          frame.src = url;\n",
       "        })();\n",
       "      </script>\n",
       "    "
      ],
      "text/plain": [
       "<IPython.core.display.HTML object>"
      ]
     },
     "metadata": {},
     "output_type": "display_data"
    }
   ],
   "source": [
    "# Load the TensorBoard notebook extension\n",
    "%load_ext tensorboard\n",
    "\n",
    "# Open an embedded TensorBoard viewer\n",
    "%tensorboard --logdir {logdir}/sizes"
   ]
  },
  {
   "cell_type": "markdown",
   "id": "excessive-entity",
   "metadata": {},
   "source": [
    "You can view the results of a previous run of this notebook on TensorBoard.dev.\n",
    "\n",
    "TensorBoard.dev is a managed experience for hosting, tracking, and sharing ML experiments with everyone.\n",
    "\n",
    "It's also included in an iframe for convenience:"
   ]
  },
  {
   "cell_type": "code",
   "execution_count": 31,
   "id": "alpine-understanding",
   "metadata": {},
   "outputs": [
    {
     "data": {
      "text/html": [
       "\n",
       "        <iframe\n",
       "            width=\"100%\"\n",
       "            height=\"800px\"\n",
       "            src=\"https://tensorboard.dev/experiment/vW7jmmF9TmKmy3rbheMQpw/#scalars&_smoothingWeight=0.97\"\n",
       "            frameborder=\"0\"\n",
       "            allowfullscreen\n",
       "        ></iframe>\n",
       "        "
      ],
      "text/plain": [
       "<IPython.lib.display.IFrame at 0x7f4d644f7cd0>"
      ]
     },
     "execution_count": 31,
     "metadata": {},
     "output_type": "execute_result"
    }
   ],
   "source": [
    "display.IFrame(\n",
    "    src=\"https://tensorboard.dev/experiment/vW7jmmF9TmKmy3rbheMQpw/#scalars&_smoothingWeight=0.97\",\n",
    "    width=\"100%\", height=\"800px\")"
   ]
  },
  {
   "cell_type": "markdown",
   "id": "japanese-massachusetts",
   "metadata": {},
   "source": [
    "If you want to share TensorBoard results you can upload the logs to TensorBoard.dev by copying the following into a code-cell."
   ]
  },
  {
   "cell_type": "code",
   "execution_count": 32,
   "id": "bored-ideal",
   "metadata": {},
   "outputs": [
    {
     "data": {
      "text/plain": [
       "ERROR: Failed to launch TensorBoard (exited with 1).\n",
       "Contents of stderr:\n",
       "2021-08-18 07:02:22.511116: W tensorflow/stream_executor/platform/default/dso_loader.cc:60] Could not load dynamic library 'libcudart.so.11.0'; dlerror: libcudart.so.11.0: cannot open shared object file: No such file or directory\n",
       "2021-08-18 07:02:22.511206: I tensorflow/stream_executor/cuda/cudart_stub.cc:29] Ignore above cudart dlerror if you do not have a GPU set up on your machine.\n",
       "\n",
       "***** TensorBoard Uploader *****\n",
       "\n",
       "This will upload your TensorBoard logs to https://tensorboard.dev/ from\n",
       "the following directory:\n",
       "\n",
       "/tmp/tmpcbw37mcm/tensorboard_logs/sizes\n",
       "\n",
       "This TensorBoard will be visible to everyone. Do not upload sensitive\n",
       "data.\n",
       "\n",
       "Your use of this service is subject to Google's Terms of Service\n",
       "<https://policies.google.com/terms> and Privacy Policy\n",
       "<https://policies.google.com/privacy>, and TensorBoard.dev's Terms of Service\n",
       "<https://tensorboard.dev/policy/terms/>.\n",
       "\n",
       "This notice will not be shown again while you are logged into the uploader.\n",
       "To log out, run `tensorboard dev auth revoke`.\n",
       "\n",
       "Traceback (most recent call last):\n",
       "  File \"/opt/conda/bin/tensorboard\", line 8, in <module>\n",
       "    sys.exit(run_main())\n",
       "  File \"/opt/conda/lib/python3.7/site-packages/tensorboard/main.py\", line 75, in run_main\n",
       "    app.run(tensorboard.main, flags_parser=tensorboard.configure)\n",
       "  File \"/opt/conda/lib/python3.7/site-packages/absl/app.py\", line 300, in run\n",
       "    _run_main(main, args)\n",
       "  File \"/opt/conda/lib/python3.7/site-packages/absl/app.py\", line 251, in _run_main\n",
       "    sys.exit(main(argv))\n",
       "  File \"/opt/conda/lib/python3.7/site-packages/tensorboard/program.py\", line 289, in main\n",
       "    return runner(self.flags) or 0\n",
       "  File \"/opt/conda/lib/python3.7/site-packages/tensorboard/uploader/uploader_subcommand.py\", line 671, in run\n",
       "    return _run(flags, self._experiment_url_callback)\n",
       "  File \"/opt/conda/lib/python3.7/site-packages/tensorboard/uploader/uploader_subcommand.py\", line 97, in _run\n",
       "    _prompt_for_user_ack(intent)\n",
       "  File \"/opt/conda/lib/python3.7/site-packages/tensorboard/uploader/uploader_subcommand.py\", line 70, in _prompt_for_user_ack\n",
       "    response = six.moves.input(\"Continue? (yes/NO) \")\n",
       "EOFError: EOF when reading a line\n",
       "Contents of stdout:\n",
       "Continue? (yes/NO)"
      ]
     },
     "metadata": {},
     "output_type": "display_data"
    }
   ],
   "source": [
    "tensorboard dev upload --logdir  {logdir}/sizes"
   ]
  },
  {
   "cell_type": "markdown",
   "id": "ahead-blues",
   "metadata": {},
   "source": [
    "# Strategies to prevent overfitting\n",
    "\n",
    "Before getting into the content of this section copy the training logs from the \"Tiny\" model above, to use as a baseline for comparison."
   ]
  },
  {
   "cell_type": "code",
   "execution_count": 33,
   "id": "laughing-sleep",
   "metadata": {},
   "outputs": [
    {
     "data": {
      "text/plain": [
       "PosixPath('/tmp/tmpcbw37mcm/tensorboard_logs/regularizers/Tiny')"
      ]
     },
     "execution_count": 33,
     "metadata": {},
     "output_type": "execute_result"
    }
   ],
   "source": [
    "shutil.rmtree(logdir/'regularizers/Tiny', ignore_errors=True)\n",
    "shutil.copytree(logdir/'sizes/Tiny', logdir/'regularizers/Tiny')"
   ]
  },
  {
   "cell_type": "code",
   "execution_count": 34,
   "id": "criminal-superior",
   "metadata": {},
   "outputs": [],
   "source": [
    "regularizer_histories = {}\n",
    "regularizer_histories['Tiny'] = size_histories['Tiny']"
   ]
  },
  {
   "cell_type": "markdown",
   "id": "environmental-yeast",
   "metadata": {},
   "source": [
    "### Add weight regularization\n",
    "\n",
    "이제 가중치 규제를 둘 것입니다. 여기 설명에선 오컴의 면도날을 예시로 듭니다. 오컴의 면도날이란 어떤 현상을 설명할 때 불필요한 가정이 필요없다는 뜻입니다. 조금 더 쉬운 말로 번역하자면, '같은 현상을 설명하는 두 개의 주장이 있다면, 간단한 쪽을 선택하라'라는 뜻인데요. 이 원리를 신경 네트워크에서 학습한 모델에도 적용이 됩니다.\n",
    "\n",
    "일부 train data와 network architecture가 주어졌을 때, 데이터를 설명할 수 있는 여러 가지 가중치 값이 있고, 또한 앞서 보았듯이 단순한 모델이 복잡한 모델보다 과적합할 가능성이 적다는 것을 확인했습니다.\n",
    "\n",
    "그래서 우리는 네트워크의 복잡도에 제한을 두어 가중치가 작은 값을 가지도록 만드는 과정이 정칙화이고, 여기서 우리는 가중치의 절댓값에 비례하는 비용이 추가되는 L1 노름, 가중치의 제곱에 비례하는 비용이 추가되는 L2 노름이 있다는 것을 알고 있습니다.\n",
    "\n",
    "여기서는 simple model이라 하는데요. 단순 모형이란 파라미터 값의 분포가 엔트로피를 갖는 모형을 말한다고 합니다. 따라서 과적합을 완화하는 일반적인 방법은 가중치를 작은 값만 취하도록 하여 네트워크의 복잡성에 제약을 가하는 것이라 정리할 수 있습니다.\n",
    "\n",
    "l1, l2 등을 통해 가중치 값의 분포가 \"regular\" 해지고 이 과정을 weight regularization(가중치 정칙화)라고 합니다. 큰 가중치를 갖는 것과 관련된 비용을 네트워크의 손실 함수에 더하면서 이뤄집니다.\n",
    "\n",
    "노드에서 배웠듯이, L1 규제는 일부 가중치 파라미터를 0으로 만듭니다. L2 규제는 가중치 파라미터를 제한하지만 완전히 0으로 만들지는 않습니다. L2가 더 일반적인 이유 중 하나이고, 여기서도 L2 노름의 예시만 보여주고 있습니다."
   ]
  },
  {
   "cell_type": "code",
   "execution_count": null,
   "id": "illegal-faith",
   "metadata": {},
   "outputs": [],
   "source": [
    "l2_model = tf.keras.Sequential([\n",
    "    layers.Dense(512, activation='elu',\n",
    "                 kernel_regularizer=regularizers.l2(0.001),\n",
    "                 input_shape=(FEATURES,)),\n",
    "    layers.Dense(512, activation='elu',\n",
    "                 kernel_regularizer=regularizers.l2(0.001)),\n",
    "    layers.Dense(512, activation='elu',\n",
    "                 kernel_regularizer=regularizers.l2(0.001)),\n",
    "    layers.Dense(512, activation='elu',\n",
    "                 kernel_regularizer=regularizers.l2(0.001)),\n",
    "    layers.Dense(1)\n",
    "])\n",
    "\n",
    "regularizer_histories['l2'] = compile_and_fit(l2_model, \"regularizers/l2\")"
   ]
  },
  {
   "cell_type": "markdown",
   "id": "revised-albania",
   "metadata": {},
   "source": [
    "regularizers.l2(0.001) : 가중치 행렬의 모든 원소를 제곱하고 0.001을 곱하여 네트워크의 전체 손실에 더해진다는 의미입니다. 이 규제(패널티)는 훈련할 때만 추가됩니다.\n",
    "\n",
    "여기서는 binary_crossentropy로 모니터링을 하고 있습니다. 따라서 large 모델에 l2를 적용한 모델이 더 나은 성능을 보여주고 있습니다."
   ]
  },
  {
   "cell_type": "code",
   "execution_count": 36,
   "id": "modern-rendering",
   "metadata": {},
   "outputs": [
    {
     "data": {
      "text/plain": [
       "(0.5, 0.7)"
      ]
     },
     "execution_count": 36,
     "metadata": {},
     "output_type": "execute_result"
    },
    {
     "data": {
      "image/png": "[encoded data removed]",
      "text/plain": [
       "<Figure size 432x288 with 1 Axes>"
      ]
     },
     "metadata": {
      "needs_background": "light"
     },
     "output_type": "display_data"
    }
   ],
   "source": [
    "plotter.plot(regularizer_histories)\n",
    "plt.ylim([0.5, 0.7])"
   ]
  },
  {
   "cell_type": "markdown",
   "id": "running-wesley",
   "metadata": {},
   "source": [
    "l2 모델은 large의 동일한 수의 파라미터를 가지고 있음에도 과적합에 더 강합니다.\n",
    "\n",
    "이러한 정칙화에 유의점이 두 가지 있습니다.\n",
    "\n",
    "1. 사용자만의 training loop를 지정을 해줄 때, regularization losses가 있어야 한다는 점\n",
    "2. 가중치 패널티를 추가한 다음 손실 함수의 값을 가능한 낮추는 매개변수를 찾는 표준 최적화 과정이 필요하다고 말하고 있습니다."
   ]
  },
  {
   "cell_type": "code",
   "execution_count": 37,
   "id": "rubber-daniel",
   "metadata": {},
   "outputs": [],
   "source": [
    "result = l2_model(features)\n",
    "regularization_loss=tf.add_n(l2_model.losses)"
   ]
  },
  {
   "cell_type": "markdown",
   "id": "classical-remove",
   "metadata": {},
   "source": [
    "### Add dropout\n",
    "\n",
    "앞에는 오버피팅을 억제하는 방식으로 손실 함수에 가중치의 L2 노름을 더한 가중치 감소 방법을 설명했고, 가중치 감소는 간단하게 구현할 수 있고 어느 정도 지나친 학습을 억제할 수 있습니다.\n",
    "그러나 신경망 모델이 복잡해지면 가중치 감소만으로는 대응하기 어려워져서, 이럴 때는 흔히 드롭아웃이라는 기법을 사용합니다.\n",
    "\n",
    "드롭아웃은 훈련 때 은닉층의 뉴련을 무작위로 골라 삭제합니다. 이를 zero out이라 말하고, 삭제된 뉴런은 신호를 전달하지 않게 됩니다. 일반적으로 주어진 입력 샘플인 벡터  [0.2, 0.5, 1.3, 0.8, 1.1] 를 반환한다고 가정하면, 드롭아웃을 적용하면 이 벡터는 임의로 분포된 몇 개의 항목이 0이 되는 것을 볼 수 있습니다. [0, 0.5, 1.3, 0, 1.1].\n",
    "\n",
    "dropout rate는 zero out 되는 피처의 비율이며 일반적으로 0.2~0.5 사이 설정됩니다. 훈련할 땐 삭제할 뉴런을 무작위로 선택하지만, test 때는 모든 뉴런에 신호를 전달합니다. 단, test 때는 각 뉴런을 출력할 때 삭제 안 한 비율을 곱하거나 또는 곱하지 않고 구한다고 합니다.\n",
    "\n",
    "네트워크에 두 개의 드롭아웃 계층을 추가하여 오버핏을 줄이는 데 얼마나 효과적인지 알아보겠습니다."
   ]
  },
  {
   "cell_type": "code",
   "execution_count": 38,
   "id": "smooth-actress",
   "metadata": {},
   "outputs": [
    {
     "name": "stdout",
     "output_type": "stream",
     "text": [
      "Model: \"sequential_5\"\n",
      "_________________________________________________________________\n",
      "Layer (type)                 Output Shape              Param #   \n",
      "=================================================================\n",
      "dense_19 (Dense)             (None, 512)               14848     \n",
      "_________________________________________________________________\n",
      "dropout (Dropout)            (None, 512)               0         \n",
      "_________________________________________________________________\n",
      "dense_20 (Dense)             (None, 512)               262656    \n",
      "_________________________________________________________________\n",
      "dropout_1 (Dropout)          (None, 512)               0         \n",
      "_________________________________________________________________\n",
      "dense_21 (Dense)             (None, 512)               262656    \n",
      "_________________________________________________________________\n",
      "dropout_2 (Dropout)          (None, 512)               0         \n",
      "_________________________________________________________________\n",
      "dense_22 (Dense)             (None, 512)               262656    \n",
      "_________________________________________________________________\n",
      "dropout_3 (Dropout)          (None, 512)               0         \n",
      "_________________________________________________________________\n",
      "dense_23 (Dense)             (None, 1)                 513       \n",
      "=================================================================\n",
      "Total params: 803,329\n",
      "Trainable params: 803,329\n",
      "Non-trainable params: 0\n",
      "_________________________________________________________________\n",
      "\n",
      "Epoch: 0, accuracy:0.5106,  binary_crossentropy:0.7848,  loss:0.7848,  val_accuracy:0.5850,  val_binary_crossentropy:0.6894,  val_loss:0.6894,  \n",
      "....................................................................................................\n",
      "Epoch: 100, accuracy:0.6599,  binary_crossentropy:0.5947,  loss:0.5947,  val_accuracy:0.6850,  val_binary_crossentropy:0.5770,  val_loss:0.5770,  \n",
      "....................................................................................................\n",
      "Epoch: 200, accuracy:0.6871,  binary_crossentropy:0.5520,  loss:0.5520,  val_accuracy:0.6940,  val_binary_crossentropy:0.5813,  val_loss:0.5813,  \n",
      "....................................................................................................\n",
      "Epoch: 300, accuracy:0.7285,  binary_crossentropy:0.5044,  loss:0.5044,  val_accuracy:0.7030,  val_binary_crossentropy:0.6017,  val_loss:0.6017,  \n",
      "....................................................."
     ]
    }
   ],
   "source": [
    "dropout_model = tf.keras.Sequential([\n",
    "    layers.Dense(512, activation='elu', input_shape=(FEATURES,)),\n",
    "    layers.Dropout(0.5),\n",
    "    layers.Dense(512, activation='elu'),\n",
    "    layers.Dropout(0.5),\n",
    "    layers.Dense(512, activation='elu'),\n",
    "    layers.Dropout(0.5),\n",
    "    layers.Dense(512, activation='elu'),\n",
    "    layers.Dropout(0.5),\n",
    "    layers.Dense(1)\n",
    "])\n",
    "\n",
    "regularizer_histories['dropout'] = compile_and_fit(dropout_model, \"regularizers/dropout\")"
   ]
  },
  {
   "cell_type": "code",
   "execution_count": 39,
   "id": "annoying-ethiopia",
   "metadata": {},
   "outputs": [
    {
     "data": {
      "text/plain": [
       "(0.5, 0.7)"
      ]
     },
     "execution_count": 39,
     "metadata": {},
     "output_type": "execute_result"
    },
    {
     "data": {
      "image/png": "[encoded data removed]",
      "text/plain": [
       "<Figure size 432x288 with 1 Axes>"
      ]
     },
     "metadata": {
      "needs_background": "light"
     },
     "output_type": "display_data"
    }
   ],
   "source": [
    "plotter.plot(regularizer_histories)\n",
    "plt.ylim([0.5, 0.7])"
   ]
  },
  {
   "cell_type": "markdown",
   "id": "changing-indie",
   "metadata": {},
   "source": [
    "그래프로 확인을 해보았을 때, dropout validation set의 binary crossentropy 가 증가하여 아직까진 tiny model을 이기지 못하고 있습니다.\n",
    "\n",
    "그 다음은 l2 과 드롭아웃을 합친 모델을 만들어 볼 겁니다."
   ]
  },
  {
   "cell_type": "markdown",
   "id": "tracked-hormone",
   "metadata": {},
   "source": [
    "### Combined L2 + dropout"
   ]
  },
  {
   "cell_type": "code",
   "execution_count": null,
   "id": "variable-patrick",
   "metadata": {},
   "outputs": [
    {
     "name": "stdout",
     "output_type": "stream",
     "text": [
      "Model: \"sequential_6\"\n",
      "_________________________________________________________________\n",
      "Layer (type)                 Output Shape              Param #   \n",
      "=================================================================\n",
      "dense_24 (Dense)             (None, 512)               14848     \n",
      "_________________________________________________________________\n",
      "dropout_4 (Dropout)          (None, 512)               0         \n",
      "_________________________________________________________________\n",
      "dense_25 (Dense)             (None, 512)               262656    \n",
      "_________________________________________________________________\n",
      "dropout_5 (Dropout)          (None, 512)               0         \n",
      "_________________________________________________________________\n",
      "dense_26 (Dense)             (None, 512)               262656    \n",
      "_________________________________________________________________\n",
      "dropout_6 (Dropout)          (None, 512)               0         \n",
      "_________________________________________________________________\n",
      "dense_27 (Dense)             (None, 512)               262656    \n",
      "_________________________________________________________________\n",
      "dropout_7 (Dropout)          (None, 512)               0         \n",
      "_________________________________________________________________\n",
      "dense_28 (Dense)             (None, 1)                 513       \n",
      "=================================================================\n",
      "Total params: 803,329\n",
      "Trainable params: 803,329\n",
      "Non-trainable params: 0\n",
      "_________________________________________________________________\n",
      "\n",
      "Epoch: 0, accuracy:0.5092,  binary_crossentropy:0.8018,  loss:0.9601,  val_accuracy:0.5180,  val_binary_crossentropy:0.6676,  val_loss:0.8253,  \n",
      "....................................................................................................\n",
      "Epoch: 100, accuracy:0.6539,  binary_crossentropy:0.6035,  loss:0.6342,  val_accuracy:0.6740,  val_binary_crossentropy:0.5838,  val_loss:0.6144,  \n",
      "....................................................................................................\n",
      "Epoch: 200, accuracy:0.6639,  binary_crossentropy:0.5890,  loss:0.6144,  val_accuracy:0.6710,  val_binary_crossentropy:0.5724,  val_loss:0.5979,  \n",
      "....................................................................................................\n",
      "Epoch: 300, accuracy:0.6712,  binary_crossentropy:0.5844,  loss:0.6123,  val_accuracy:0.6750,  val_binary_crossentropy:0.5674,  val_loss:0.5954,  \n",
      "....................................................................................................\n",
      "Epoch: 400, accuracy:0.6711,  binary_crossentropy:0.5798,  loss:0.6095,  val_accuracy:0.6800,  val_binary_crossentropy:0.5607,  val_loss:0.5904,  \n",
      "....................................................................................................\n",
      "Epoch: 500, accuracy:0.6804,  binary_crossentropy:0.5736,  loss:0.6050,  val_accuracy:0.6840,  val_binary_crossentropy:0.5604,  val_loss:0.5917,  \n",
      "....................................................................................................\n",
      "Epoch: 600, accuracy:0.6850,  binary_crossentropy:0.5658,  loss:0.5985,  val_accuracy:0.6850,  val_binary_crossentropy:0.5515,  val_loss:0.5842,  \n",
      "....................................................................................................\n",
      "Epoch: 700, accuracy:0.6870,  binary_crossentropy:0.5620,  loss:0.5962,  val_accuracy:0.6920,  val_binary_crossentropy:0.5426,  val_loss:0.5768,  \n",
      "....................................................................................................\n",
      "Epoch: 800, accuracy:0.6888,  binary_crossentropy:0.5615,  loss:0.5973,  val_accuracy:0.6880,  val_binary_crossentropy:0.5458,  val_loss:0.5816,  \n",
      "....................................................................................................\n",
      "Epoch: 900, accuracy:0.6930,  binary_crossentropy:0.5538,  loss:0.5907,  val_accuracy:0.6950,  val_binary_crossentropy:0.5415,  val_loss:0.5784,  \n",
      ".............................."
     ]
    }
   ],
   "source": [
    "combined_model = tf.keras.Sequential([\n",
    "    layers.Dense(512, kernel_regularizer=regularizers.l2(0.0001),\n",
    "                 activation='elu', input_shape=(FEATURES,)),\n",
    "    layers.Dropout(0.5),\n",
    "    layers.Dense(512, kernel_regularizer=regularizers.l2(0.0001),\n",
    "                 activation='elu'),\n",
    "    layers.Dropout(0.5),\n",
    "    layers.Dense(512, kernel_regularizer=regularizers.l2(0.0001),\n",
    "                 activation='elu'),\n",
    "    layers.Dropout(0.5),\n",
    "    layers.Dense(512, kernel_regularizer=regularizers.l2(0.0001),\n",
    "                 activation='elu'),\n",
    "    layers.Dropout(0.5),\n",
    "    layers.Dense(1)\n",
    "])\n",
    "\n",
    "regularizer_histories['combined'] = compile_and_fit(combined_model, \"regularizers/combined\")"
   ]
  },
  {
   "cell_type": "code",
   "execution_count": null,
   "id": "frank-gentleman",
   "metadata": {},
   "outputs": [],
   "source": [
    "plotter.plot(regularizer_histories)\n",
    "plt.ylim([0.5, 0.7])"
   ]
  },
  {
   "cell_type": "markdown",
   "id": "metropolitan-support",
   "metadata": {},
   "source": [
    "확인을 해보니 분홍색 선과 실선이 combine 모델이고 이 모델이 현재까지 가장 좋은 결과를 보여주고 있습니다.\n",
    "\n",
    "이걸 텐서보드로 확인해보겠습니다."
   ]
  },
  {
   "cell_type": "markdown",
   "id": "potential-wound",
   "metadata": {},
   "source": [
    "### View in TensorBoard\n",
    "These models also recorded TensorBoard logs.\n",
    "\n",
    "To open an embedded tensorboard viewer inside a notebook, copy the following into a code-cell:"
   ]
  },
  {
   "cell_type": "code",
   "execution_count": null,
   "id": "regular-garden",
   "metadata": {},
   "outputs": [],
   "source": [
    "%tensorboard --logdir {logdir}/regularizers"
   ]
  },
  {
   "cell_type": "markdown",
   "id": "lined-representative",
   "metadata": {},
   "source": [
    "You can view the results of a previous run of this notebook on TensorDoard.dev.\n",
    "\n",
    "It's also included in an iframe for convenience:"
   ]
  },
  {
   "cell_type": "code",
   "execution_count": null,
   "id": "pacific-width",
   "metadata": {},
   "outputs": [],
   "source": [
    "display.IFrame(\n",
    "    src=\"https://tensorboard.dev/experiment/fGInKDo8TXes1z7HQku9mw/#scalars&_smoothingWeight=0.97\",\n",
    "    width = \"100%\",\n",
    "    height=\"800px\")"
   ]
  },
  {
   "cell_type": "markdown",
   "id": "particular-technician",
   "metadata": {},
   "source": [
    "This was uploaded with:"
   ]
  },
  {
   "cell_type": "code",
   "execution_count": null,
   "id": "introductory-aviation",
   "metadata": {},
   "outputs": [],
   "source": [
    "tensorboard dev upload --logdir  {logdir}/regularizers"
   ]
  },
  {
   "cell_type": "markdown",
   "id": "initial-television",
   "metadata": {},
   "source": [
    "# Conclusions\n",
    "\n",
    "To recap: here are the most common ways to prevent overfitting in neural networks:\n",
    "\n",
    "   - Get more training data.\n",
    "   - Reduce the capacity of the network.\n",
    "   - Add weight regularization.\n",
    "   - Add dropout.\n",
    "\n",
    "Two important approaches not covered in this guide are:\n",
    "   - data-augmentation\n",
    "   - batch normalization\n",
    "\n",
    "Remember that each method can help on its own, but often combining them can be even more effective."
   ]
  }
 ],
 "metadata": {
  "kernelspec": {
   "display_name": "Python 3",
   "language": "python",
   "name": "python3"
  },
  "language_info": {
   "codemirror_mode": {
    "name": "ipython",
    "version": 3
   },
   "file_extension": ".py",
   "mimetype": "text/x-python",
   "name": "python",
   "nbconvert_exporter": "python",
   "pygments_lexer": "ipython3",
   "version": "3.7.9"
  }
 },
 "nbformat": 4,
 "nbformat_minor": 5
}
