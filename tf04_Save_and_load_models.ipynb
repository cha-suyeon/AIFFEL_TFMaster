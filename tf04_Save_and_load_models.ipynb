{
 "cells": [
  {
   "cell_type": "markdown",
   "id": "gothic-antenna",
   "metadata": {},
   "source": [
    "# Save and load models"
   ]
  },
  {
   "cell_type": "markdown",
   "id": "elect-exercise",
   "metadata": {},
   "source": [
    "#### Table of contents\n",
    "1. Options   \n",
    "2. Setup   \n",
    "   -Installs and imports   \n",
    "   -Get an example dataset   \n",
    "   -Define a model   \n",
    "3. Save checkpoints during training   \n",
    "   -Checkpoint callback usage   \n",
    "   -Checkpoint callback options   \n",
    "4. What are these files?   \n",
    "5. Manually save weights   \n",
    "6. Save the entire model   \n",
    "   -SavedModel format   \n",
    "   -HDF5 format   \n",
    "   -Saving custom objects   "
   ]
  },
  {
   "cell_type": "markdown",
   "id": "pleasant-fifty",
   "metadata": {},
   "source": [
    "모델 진행 상황은 훈련 중 및 훈련 후에 저장할 수 있습니다. 즉, 모델이 중단된 위치에서 다시 시작하고 긴 훈련 시간을 피할 수 있습니다. 저장은 또한 모델을 공유할 수 있고 다른 사람들이 작업을 다시 만들 수 있음을 의미합니다. 연구 모델 및 기술을 게시할 때 대부분의 기계 학습 실무자는 다음을 공유합니다.\n",
    "\n",
    "   - 모델을 생성하는 코드 및\n",
    "   - 모델에 대해 훈련된 가중치 또는 매개변수\n",
    "   \n",
    "이 데이터를 공유하면 다른 사람들이 모델의 작동 방식을 이해하고 새 데이터로 직접 시도하는 데 도움이 됩니다."
   ]
  },
  {
   "cell_type": "markdown",
   "id": "active-example",
   "metadata": {},
   "source": [
    "## Options\n",
    "\n",
    "사용 중인 API에 따라 TensorFlow 모델을 저장하는 다양한 방법이 있습니다. 이 가이드는 TensorFlow에서 모델을 빌드하고 훈련하기 위해 고수준 API인 tf.keras를 사용합니다."
   ]
  },
  {
   "cell_type": "markdown",
   "id": "quiet-providence",
   "metadata": {},
   "source": [
    "## Setup\n",
    "\n",
    "### Installs and imports\n",
    "\n",
    "Install and import TensorFlow and dependencies:"
   ]
  },
  {
   "cell_type": "code",
   "execution_count": 1,
   "id": "ceramic-understanding",
   "metadata": {},
   "outputs": [
    {
     "name": "stdout",
     "output_type": "stream",
     "text": [
      "\u001b[33mWARNING: You are using pip version 20.3.3; however, version 21.2.3 is available.\n",
      "You should consider upgrading via the '/opt/conda/bin/python -m pip install --upgrade pip' command.\u001b[0m\n",
      "Note: you may need to restart the kernel to use updated packages.\n"
     ]
    }
   ],
   "source": [
    "pip install -q pyyaml h5py"
   ]
  },
  {
   "cell_type": "code",
   "execution_count": 3,
   "id": "ongoing-yacht",
   "metadata": {},
   "outputs": [
    {
     "name": "stdout",
     "output_type": "stream",
     "text": [
      "2.4.1\n"
     ]
    }
   ],
   "source": [
    "import os\n",
    "import tensorflow as tf\n",
    "from tensorflow import keras\n",
    "\n",
    "print(tf.version.VERSION)"
   ]
  },
  {
   "cell_type": "markdown",
   "id": "stunning-arrow",
   "metadata": {},
   "source": [
    "## Get an example dataset\n",
    "\n",
    "가중치를 저장하고 로드하는 방법을 보여주기 위해 MNIST 데이터 세트를 사용합니다 . 이러한 실행 속도를 높이려면 처음 1000개의 예를 사용하십시오."
   ]
  },
  {
   "cell_type": "code",
   "execution_count": 6,
   "id": "specific-collector",
   "metadata": {},
   "outputs": [],
   "source": [
    "(train_images, train_labels), (test_images, test_labels) = tf.keras.datasets.mnist.load_data()\n",
    "\n",
    "train_labels = train_labels[:1000]\n",
    "test_labels = test_labels[:1000]\n",
    "\n",
    "train_images = train_images[:1000].reshape(-1, 28*28) / 255.0\n",
    "test_images = test_images[:1000].reshape(-1, 28*28) /255.0"
   ]
  },
  {
   "cell_type": "markdown",
   "id": "marine-commons",
   "metadata": {},
   "source": [
    "## Define a model\n",
    "\n",
    "Start by building a simple sequential model:"
   ]
  },
  {
   "cell_type": "code",
   "execution_count": 13,
   "id": "prompt-medium",
   "metadata": {},
   "outputs": [],
   "source": [
    "# Define a simple sequential model\n",
    "def create_model():\n",
    "    model = tf.keras.models.Sequential([\n",
    "        keras.layers.Dense(512, activation='relu', input_shape=(784,)),\n",
    "        keras.layers.Dropout(0.2),\n",
    "        keras.layers.Dense(10)\n",
    "  ])\n",
    "    \n",
    "    model.compile(optimizer='adam',\n",
    "                loss=tf.losses.SparseCategoricalCrossentropy(from_logits=True),\n",
    "                metrics=[tf.metrics.SparseCategoricalAccuracy()])\n",
    "\n",
    "    return model"
   ]
  },
  {
   "cell_type": "code",
   "execution_count": 14,
   "id": "herbal-future",
   "metadata": {},
   "outputs": [],
   "source": [
    "model = create_model()"
   ]
  },
  {
   "cell_type": "code",
   "execution_count": 15,
   "id": "leading-sleeping",
   "metadata": {},
   "outputs": [
    {
     "name": "stdout",
     "output_type": "stream",
     "text": [
      "Model: \"sequential_1\"\n",
      "_________________________________________________________________\n",
      "Layer (type)                 Output Shape              Param #   \n",
      "=================================================================\n",
      "dense_2 (Dense)              (None, 512)               401920    \n",
      "_________________________________________________________________\n",
      "dropout_1 (Dropout)          (None, 512)               0         \n",
      "_________________________________________________________________\n",
      "dense_3 (Dense)              (None, 10)                5130      \n",
      "=================================================================\n",
      "Total params: 407,050\n",
      "Trainable params: 407,050\n",
      "Non-trainable params: 0\n",
      "_________________________________________________________________\n"
     ]
    }
   ],
   "source": [
    "model.summary()"
   ]
  },
  {
   "cell_type": "markdown",
   "id": "bigger-harrison",
   "metadata": {},
   "source": [
    "## Save checkpoints during training\n",
    "훈련된 모델을 다시 훈련할 필요 없이 사용하거나 훈련 과정이 중단된 경우 중단한 부분에서 훈련을 다시 시작할 수 있습니다. \n",
    "\n",
    "The tf.keras.callbacks.ModelCheckpoint callback allows you to continually save the model both during and at the end of training.\n",
    "\n",
    "## Checkpoint callback usage\n",
    "tf.keras.callbacks.ModelCheckpoint훈련 중에만 가중치를 저장 하는 콜백을 만듭니다"
   ]
  },
  {
   "cell_type": "code",
   "execution_count": 17,
   "id": "virgin-joint",
   "metadata": {},
   "outputs": [],
   "source": [
    "checkpoint_path = 'training_1/cp.ckpt'\n",
    "checkpoint_dir = os.path.dirname(checkpoint_path)"
   ]
  },
  {
   "cell_type": "code",
   "execution_count": 20,
   "id": "proof-barrier",
   "metadata": {},
   "outputs": [],
   "source": [
    "cp_callback = tf.keras.callbacks.ModelCheckpoint(filepath=checkpoint_path,\n",
    "                                                 save_weights_only=True,\n",
    "                                                 verbose=1)"
   ]
  },
  {
   "cell_type": "code",
   "execution_count": 21,
   "id": "hidden-medication",
   "metadata": {},
   "outputs": [
    {
     "name": "stdout",
     "output_type": "stream",
     "text": [
      "Epoch 1/10\n",
      "32/32 [==============================] - 1s 9ms/step - loss: 1.5689 - sparse_categorical_accuracy: 0.5127 - val_loss: 0.7197 - val_sparse_categorical_accuracy: 0.7880\n",
      "\n",
      "Epoch 00001: saving model to training_1/cp.ckpt\n",
      "Epoch 2/10\n",
      "32/32 [==============================] - 0s 4ms/step - loss: 0.4741 - sparse_categorical_accuracy: 0.8708 - val_loss: 0.5214 - val_sparse_categorical_accuracy: 0.8440\n",
      "\n",
      "Epoch 00002: saving model to training_1/cp.ckpt\n",
      "Epoch 3/10\n",
      "32/32 [==============================] - 0s 4ms/step - loss: 0.2820 - sparse_categorical_accuracy: 0.9286 - val_loss: 0.4554 - val_sparse_categorical_accuracy: 0.8570\n",
      "\n",
      "Epoch 00003: saving model to training_1/cp.ckpt\n",
      "Epoch 4/10\n",
      "32/32 [==============================] - 0s 4ms/step - loss: 0.2049 - sparse_categorical_accuracy: 0.9510 - val_loss: 0.4504 - val_sparse_categorical_accuracy: 0.8580\n",
      "\n",
      "Epoch 00004: saving model to training_1/cp.ckpt\n",
      "Epoch 5/10\n",
      "32/32 [==============================] - 0s 4ms/step - loss: 0.1600 - sparse_categorical_accuracy: 0.9692 - val_loss: 0.4204 - val_sparse_categorical_accuracy: 0.8680\n",
      "\n",
      "Epoch 00005: saving model to training_1/cp.ckpt\n",
      "Epoch 6/10\n",
      "32/32 [==============================] - 0s 4ms/step - loss: 0.0901 - sparse_categorical_accuracy: 0.9888 - val_loss: 0.4199 - val_sparse_categorical_accuracy: 0.8670\n",
      "\n",
      "Epoch 00006: saving model to training_1/cp.ckpt\n",
      "Epoch 7/10\n",
      "32/32 [==============================] - 0s 4ms/step - loss: 0.0817 - sparse_categorical_accuracy: 0.9856 - val_loss: 0.4371 - val_sparse_categorical_accuracy: 0.8590\n",
      "\n",
      "Epoch 00007: saving model to training_1/cp.ckpt\n",
      "Epoch 8/10\n",
      "32/32 [==============================] - 0s 4ms/step - loss: 0.0635 - sparse_categorical_accuracy: 0.9935 - val_loss: 0.4164 - val_sparse_categorical_accuracy: 0.8650\n",
      "\n",
      "Epoch 00008: saving model to training_1/cp.ckpt\n",
      "Epoch 9/10\n",
      "32/32 [==============================] - 0s 4ms/step - loss: 0.0500 - sparse_categorical_accuracy: 0.9975 - val_loss: 0.4336 - val_sparse_categorical_accuracy: 0.8640\n",
      "\n",
      "Epoch 00009: saving model to training_1/cp.ckpt\n",
      "Epoch 10/10\n",
      "32/32 [==============================] - 0s 4ms/step - loss: 0.0456 - sparse_categorical_accuracy: 0.9952 - val_loss: 0.4015 - val_sparse_categorical_accuracy: 0.8750\n",
      "\n",
      "Epoch 00010: saving model to training_1/cp.ckpt\n"
     ]
    },
    {
     "data": {
      "text/plain": [
       "<tensorflow.python.keras.callbacks.History at 0x7fece18a3150>"
      ]
     },
     "execution_count": 21,
     "metadata": {},
     "output_type": "execute_result"
    }
   ],
   "source": [
    "model.fit(train_images, train_labels, epochs = 10,\n",
    "         validation_data = (test_images, test_labels),\n",
    "         callbacks=[cp_callback])"
   ]
  },
  {
   "cell_type": "markdown",
   "id": "nuclear-citation",
   "metadata": {},
   "source": [
    "This creates a single collection of TensorFlow checkpoint files that are updated at the end of each epoch:"
   ]
  },
  {
   "cell_type": "code",
   "execution_count": 22,
   "id": "together-mercy",
   "metadata": {
    "scrolled": true
   },
   "outputs": [
    {
     "data": {
      "text/plain": [
       "['cp.ckpt.index', 'cp.ckpt.data-00000-of-00001', 'checkpoint']"
      ]
     },
     "execution_count": 22,
     "metadata": {},
     "output_type": "execute_result"
    }
   ],
   "source": [
    "os.listdir(checkpoint_dir)"
   ]
  },
  {
   "cell_type": "markdown",
   "id": "indian-congress",
   "metadata": {},
   "source": [
    "두 모델이 동일한 아키텍처를 공유하는 한 두 모델 간에 가중치를 공유할 수 있습니다. 따라서 weight만에서 모델을 복원할 때 원래 모델과 동일한 아키텍처로 모델을 생성한 다음 가중치를 설정합니다.\n",
    "\n",
    "이제 훈련되지 않은 새로운 모델을 다시 빌드하고 테스트 세트에서 평가하십시오. 훈련되지 않은 모델은 확률 수준(~10% 정확도)에서 수행됩니다."
   ]
  },
  {
   "cell_type": "code",
   "execution_count": 23,
   "id": "capable-greek",
   "metadata": {},
   "outputs": [],
   "source": [
    "model = create_model()"
   ]
  },
  {
   "cell_type": "code",
   "execution_count": 27,
   "id": "boring-asbestos",
   "metadata": {},
   "outputs": [
    {
     "name": "stdout",
     "output_type": "stream",
     "text": [
      "32/32 - 0s - loss: 2.3385 - sparse_categorical_accuracy: 0.0970\n",
      "Untrained model, accuracy:  9.70%\n"
     ]
    }
   ],
   "source": [
    "loss, acc = model.evaluate(test_images, test_labels, verbose=2)\n",
    "print(\"Untrained model, accuracy: {:5.2f}%\".format(100 * acc))"
   ]
  },
  {
   "cell_type": "markdown",
   "id": "informed-second",
   "metadata": {},
   "source": [
    "그런 다음 체크포인트에서 가중치를 로드하고 다시 평가합니다."
   ]
  },
  {
   "cell_type": "code",
   "execution_count": 28,
   "id": "described-benchmark",
   "metadata": {},
   "outputs": [
    {
     "name": "stdout",
     "output_type": "stream",
     "text": [
      "32/32 - 0s - loss: 0.4015 - sparse_categorical_accuracy: 0.8750\n",
      "Restored model, accuracy: 87.50%\n"
     ]
    }
   ],
   "source": [
    "model.load_weights(checkpoint_path)\n",
    "\n",
    "loss, acc = model.evaluate(test_images, test_labels, verbose=2)\n",
    "print(\"Restored model, accuracy: {:5.2f}%\".format(100*acc))"
   ]
  },
  {
   "cell_type": "markdown",
   "id": "empty-palmer",
   "metadata": {},
   "source": [
    "## Checkpoint callback options\n",
    "\n",
    "콜백은 체크포인트에 고유한 이름을 제공하고 체크포인트 빈도를 조정하는 몇 가지 옵션을 제공합니다.\n",
    "\n",
    "새 모델을 훈련하고 5개의 Epoch마다 고유한 이름의 체크포인트를 저장합니다."
   ]
  },
  {
   "cell_type": "code",
   "execution_count": 29,
   "id": "original-environment",
   "metadata": {},
   "outputs": [],
   "source": [
    "checkpoint_path = \"training_2/cp-{epoch:04d}.ckpt\"\n",
    "checkpoint_dir = os.path.dirname(checkpoint_path)"
   ]
  },
  {
   "cell_type": "code",
   "execution_count": 31,
   "id": "micro-express",
   "metadata": {},
   "outputs": [],
   "source": [
    "batch_size = 32\n",
    "\n",
    "cp_callback = tf.keras.callbacks.ModelCheckpoint(\n",
    "    filepath=checkpoint_path,\n",
    "    verbose=1,\n",
    "    save_weights_only=True,\n",
    "    save_freq=5*batch_size)"
   ]
  },
  {
   "cell_type": "code",
   "execution_count": 32,
   "id": "indirect-vietnamese",
   "metadata": {},
   "outputs": [],
   "source": [
    "model = create_model()"
   ]
  },
  {
   "cell_type": "code",
   "execution_count": 35,
   "id": "compatible-whole",
   "metadata": {},
   "outputs": [],
   "source": [
    "model.save_weights(checkpoint_path.format(epoch=0))"
   ]
  },
  {
   "cell_type": "code",
   "execution_count": 36,
   "id": "rental-mozambique",
   "metadata": {},
   "outputs": [
    {
     "name": "stdout",
     "output_type": "stream",
     "text": [
      "\n",
      "Epoch 00005: saving model to training_2/cp-0005.ckpt\n",
      "\n",
      "Epoch 00010: saving model to training_2/cp-0010.ckpt\n",
      "\n",
      "Epoch 00015: saving model to training_2/cp-0015.ckpt\n",
      "\n",
      "Epoch 00020: saving model to training_2/cp-0020.ckpt\n",
      "\n",
      "Epoch 00025: saving model to training_2/cp-0025.ckpt\n",
      "\n",
      "Epoch 00030: saving model to training_2/cp-0030.ckpt\n",
      "\n",
      "Epoch 00035: saving model to training_2/cp-0035.ckpt\n",
      "\n",
      "Epoch 00040: saving model to training_2/cp-0040.ckpt\n",
      "\n",
      "Epoch 00045: saving model to training_2/cp-0045.ckpt\n",
      "\n",
      "Epoch 00050: saving model to training_2/cp-0050.ckpt\n"
     ]
    },
    {
     "data": {
      "text/plain": [
       "<tensorflow.python.keras.callbacks.History at 0x7fecd026ccd0>"
      ]
     },
     "execution_count": 36,
     "metadata": {},
     "output_type": "execute_result"
    }
   ],
   "source": [
    "model.fit(train_images, train_labels, epochs=50, batch_size=batch_size,\n",
    "         callbacks=[cp_callback],\n",
    "         validation_data=(test_images, test_labels),\n",
    "         verbose=0)"
   ]
  },
  {
   "cell_type": "code",
   "execution_count": 37,
   "id": "secondary-blues",
   "metadata": {},
   "outputs": [
    {
     "data": {
      "text/plain": [
       "['cp-0025.ckpt.data-00000-of-00001',\n",
       " 'cp-0025.ckpt.index',\n",
       " 'cp-0050.ckpt.index',\n",
       " 'cp-0015.ckpt.data-00000-of-00001',\n",
       " 'cp-0045.ckpt.data-00000-of-00001',\n",
       " 'cp-0040.ckpt.index',\n",
       " 'cp-0000.ckpt.index',\n",
       " 'cp-0030.ckpt.index',\n",
       " 'cp-0010.ckpt.data-00000-of-00001',\n",
       " 'cp-0005.ckpt.data-00000-of-00001',\n",
       " 'cp-0020.ckpt.index',\n",
       " 'cp-0020.ckpt.data-00000-of-00001',\n",
       " 'cp-0040.ckpt.data-00000-of-00001',\n",
       " 'cp-0030.ckpt.data-00000-of-00001',\n",
       " 'cp-0010.ckpt.index',\n",
       " 'cp-0035.ckpt.index',\n",
       " 'cp-0000.ckpt.data-00000-of-00001',\n",
       " 'cp-0005.ckpt.index',\n",
       " 'cp-0035.ckpt.data-00000-of-00001',\n",
       " 'cp-0050.ckpt.data-00000-of-00001',\n",
       " 'cp-0015.ckpt.index',\n",
       " 'cp-0045.ckpt.index',\n",
       " 'checkpoint']"
      ]
     },
     "execution_count": 37,
     "metadata": {},
     "output_type": "execute_result"
    }
   ],
   "source": [
    "os.listdir(checkpoint_dir)"
   ]
  },
  {
   "cell_type": "code",
   "execution_count": 38,
   "id": "cubic-suspension",
   "metadata": {},
   "outputs": [
    {
     "data": {
      "text/plain": [
       "'training_2/cp-0050.ckpt'"
      ]
     },
     "execution_count": 38,
     "metadata": {},
     "output_type": "execute_result"
    }
   ],
   "source": [
    "latest = tf.train.latest_checkpoint(checkpoint_dir)\n",
    "latest"
   ]
  },
  {
   "cell_type": "markdown",
   "id": "dangerous-ocean",
   "metadata": {},
   "source": [
    "테스트하려면 모델을 재설정하고 최신 체크포인트를 로드하세요."
   ]
  },
  {
   "cell_type": "code",
   "execution_count": 39,
   "id": "wireless-conference",
   "metadata": {},
   "outputs": [
    {
     "data": {
      "text/plain": [
       "<tensorflow.python.training.tracking.util.CheckpointLoadStatus at 0x7fecd82c9590>"
      ]
     },
     "execution_count": 39,
     "metadata": {},
     "output_type": "execute_result"
    }
   ],
   "source": [
    "model = create_model()\n",
    "\n",
    "model.load_weights(latest)"
   ]
  },
  {
   "cell_type": "code",
   "execution_count": 41,
   "id": "gentle-secretary",
   "metadata": {},
   "outputs": [
    {
     "name": "stdout",
     "output_type": "stream",
     "text": [
      "32/32 - 0s - loss: 0.4888 - sparse_categorical_accuracy: 0.8710\n",
      "Restored model, accuracy :87.10%\n"
     ]
    }
   ],
   "source": [
    "loss, acc = model.evaluate(test_images, test_labels, verbose=2)\n",
    "\n",
    "\n",
    "print(\"Restored model, accuracy :{:5.2f}%\".format(100*acc))"
   ]
  },
  {
   "cell_type": "markdown",
   "id": "enclosed-tackle",
   "metadata": {},
   "source": [
    "## What are these files?\n",
    "\n",
    "The above code stores the weights to a collection of checkpoint-formatted files that contain only the trained weights in a binary format. Checkpoints contain:\n",
    "\n",
    "   - One or more shards that contain your model's weights.\n",
    "   - An index file that indicates which weights are stored in which shard.\n",
    "\n",
    "If you are training a model on a single machine, you'll have one shard with the suffix: .data-00000-of-00001\n",
    "\n",
    "## Manually save weights\n",
    "\n",
    "Manually saving weights with the Model.save_weights method. By default, tf.keras—and save_weights in particular—uses the TensorFlow checkpoint format with a .ckpt extension (saving in HDF5 with a .h5 extension is covered in the Save and serialize models guide):"
   ]
  },
  {
   "cell_type": "code",
   "execution_count": 42,
   "id": "broadband-latex",
   "metadata": {},
   "outputs": [],
   "source": [
    "model.save_weights('/checkpoints/my_checkpoint')"
   ]
  },
  {
   "cell_type": "code",
   "execution_count": 43,
   "id": "parliamentary-immune",
   "metadata": {},
   "outputs": [],
   "source": [
    "model = create_model()"
   ]
  },
  {
   "cell_type": "code",
   "execution_count": 46,
   "id": "functional-basin",
   "metadata": {},
   "outputs": [
    {
     "data": {
      "text/plain": [
       "<tensorflow.python.training.tracking.util.CheckpointLoadStatus at 0x7fecd013ef50>"
      ]
     },
     "execution_count": 46,
     "metadata": {},
     "output_type": "execute_result"
    }
   ],
   "source": [
    "model.load_weights('/checkpoints/my_checkpoint')"
   ]
  },
  {
   "cell_type": "code",
   "execution_count": 47,
   "id": "downtown-mirror",
   "metadata": {},
   "outputs": [
    {
     "name": "stdout",
     "output_type": "stream",
     "text": [
      "32/32 - 0s - loss: 0.4888 - sparse_categorical_accuracy: 0.8710\n",
      "Restored model, accuracy: 87.10%\n"
     ]
    }
   ],
   "source": [
    "loss, acc = model.evaluate(test_images, test_labels, verbose=2)\n",
    "print(\"Restored model, accuracy: {:5.2f}%\".format(100*acc))"
   ]
  },
  {
   "cell_type": "markdown",
   "id": "minute-environment",
   "metadata": {},
   "source": [
    "## Save the entire model\n",
    "\n",
    "model.save단일 파일/폴더에 모델의 아키텍처, 가중치 및 교육 구성을 저장하기 위해 호출 합니다. 이렇게 하면 원본 Python 코드에 액세스하지 않고도 사용할 수 있도록 모델을 내보낼 수 있습니다*. 옵티마이저 상태가 복구되었으므로 중단한 위치에서 정확히 훈련을 재개할 수 있습니다.\n",
    "\n",
    "전체 모델은 두 가지 다른 파일 형식( SavedModel및 HDF5) 으로 저장할 수 있습니다 . TensorFlow SavedModel형식은 TF2.x의 기본 파일 형식입니다. 그러나 모델은 HDF5형식 으로 저장할 수 있습니다 . 전체 모델을 두 가지 파일 형식으로 저장하는 방법에 대한 자세한 내용은 아래에 설명되어 있습니다.\n",
    "\n",
    "완전한 기능을 갖춘 모델을 저장하는 것은 매우 유용합니다. TensorFlow.js( 저장된 모델 , HDF5 ) 에서 로드 한 다음 웹 브라우저에서 훈련 및 실행하거나 TensorFlow Lite( 저장된 모델 , HDF5)를 사용하여 모바일 장치에서 실행되도록 변환할 수 있습니다. )\n",
    "\n",
    "*사용자 정의 개체(예: 하위 클래스 모델 또는 레이어)는 저장 및 로드할 때 특별한 주의가 필요합니다. 아래의 사용자 정의 개체 저장 섹션을 참조하십시오.\n",
    "\n",
    "## SavedModel format\n",
    "\n",
    "SavedModel 형식은 모델을 직렬화하는 또 다른 방법입니다. 이 형식으로 저장된 모델 tf.keras.models.load_model은 TensorFlow Serving을 사용하여 복원할 수 있으며 호환됩니다. SavedModel 가이드는 SavedModel 저장/제공하는 방법에 대한 내용이수록. 아래 섹션에서는 모델을 저장하고 복원하는 단계를 보여줍니다."
   ]
  },
  {
   "cell_type": "code",
   "execution_count": 49,
   "id": "prescribed-prior",
   "metadata": {},
   "outputs": [
    {
     "name": "stdout",
     "output_type": "stream",
     "text": [
      "Epoch 1/5\n",
      "32/32 [==============================] - 0s 2ms/step - loss: 1.6426 - sparse_categorical_accuracy: 0.4621\n",
      "Epoch 2/5\n",
      "32/32 [==============================] - 0s 2ms/step - loss: 0.4602 - sparse_categorical_accuracy: 0.8788\n",
      "Epoch 3/5\n",
      "32/32 [==============================] - 0s 2ms/step - loss: 0.3135 - sparse_categorical_accuracy: 0.9127\n",
      "Epoch 4/5\n",
      "32/32 [==============================] - 0s 2ms/step - loss: 0.2121 - sparse_categorical_accuracy: 0.9542\n",
      "Epoch 5/5\n",
      "32/32 [==============================] - 0s 2ms/step - loss: 0.1719 - sparse_categorical_accuracy: 0.9676\n"
     ]
    },
    {
     "data": {
      "text/plain": [
       "<tensorflow.python.keras.callbacks.History at 0x7fed51333a90>"
      ]
     },
     "execution_count": 49,
     "metadata": {},
     "output_type": "execute_result"
    }
   ],
   "source": [
    "model = create_model()\n",
    "model.fit(train_images, train_labels, epochs=5)"
   ]
  },
  {
   "cell_type": "markdown",
   "id": "hawaiian-youth",
   "metadata": {},
   "source": [
    "The SavedModel format is a directory containing a protobuf binary and a TensorFlow checkpoint. Inspect the saved model directory:"
   ]
  },
  {
   "cell_type": "code",
   "execution_count": 51,
   "id": "eleven-passing",
   "metadata": {},
   "outputs": [
    {
     "name": "stdout",
     "output_type": "stream",
     "text": [
      "INFO:tensorflow:Assets written to: saved_model/my_model/assets\n"
     ]
    }
   ],
   "source": [
    "# Save the entire model as a SavedModel.\n",
    "!mkdir -p saved_model\n",
    "model.save('saved_model/my_model')"
   ]
  },
  {
   "cell_type": "code",
   "execution_count": 55,
   "id": "promising-admission",
   "metadata": {},
   "outputs": [
    {
     "name": "stdout",
     "output_type": "stream",
     "text": [
      "my_model\n",
      "assets\tsaved_model.pb\tvariables\n"
     ]
    }
   ],
   "source": [
    "# my_model directory\n",
    "\n",
    "!ls saved_model\n",
    "\n",
    "# Contains an assets folder, saved_model.pb, and variables folder.\n",
    "! ls saved_model/my_model"
   ]
  },
  {
   "cell_type": "markdown",
   "id": "diagnostic-average",
   "metadata": {},
   "source": [
    "Reload a fresh Keras model from the saved model:"
   ]
  },
  {
   "cell_type": "code",
   "execution_count": 56,
   "id": "seventh-forward",
   "metadata": {
    "scrolled": true
   },
   "outputs": [
    {
     "name": "stdout",
     "output_type": "stream",
     "text": [
      "Model: \"sequential_7\"\n",
      "_________________________________________________________________\n",
      "Layer (type)                 Output Shape              Param #   \n",
      "=================================================================\n",
      "dense_14 (Dense)             (None, 512)               401920    \n",
      "_________________________________________________________________\n",
      "dropout_7 (Dropout)          (None, 512)               0         \n",
      "_________________________________________________________________\n",
      "dense_15 (Dense)             (None, 10)                5130      \n",
      "=================================================================\n",
      "Total params: 407,050\n",
      "Trainable params: 407,050\n",
      "Non-trainable params: 0\n",
      "_________________________________________________________________\n"
     ]
    }
   ],
   "source": [
    "new_model =tf.keras.models.load_model('saved_model/my_model')\n",
    "\n",
    "new_model.summary()"
   ]
  },
  {
   "cell_type": "markdown",
   "id": "wrapped-overview",
   "metadata": {},
   "source": [
    "The restored model is compiled with the same arguments as the original model. Try running evaluate and predict with the loaded model:"
   ]
  },
  {
   "cell_type": "code",
   "execution_count": 57,
   "id": "developmental-scotland",
   "metadata": {},
   "outputs": [
    {
     "name": "stdout",
     "output_type": "stream",
     "text": [
      "32/32 - 0s - loss: 0.4083 - sparse_categorical_accuracy: 0.8630\n",
      "Restored model, accuracy: 86.30%\n",
      "(1000, 10)\n"
     ]
    }
   ],
   "source": [
    "loss, acc = new_model.evaluate(test_images, test_labels, verbose=2)\n",
    "print('Restored model, accuracy: {:5.2f}%'.format(100*acc))\n",
    "\n",
    "print(new_model.predict(test_images).shape)"
   ]
  },
  {
   "cell_type": "markdown",
   "id": "single-permit",
   "metadata": {},
   "source": [
    "# HDF5 format\n",
    "\n",
    "Keras provides a basic save format using the HDF5 standard."
   ]
  },
  {
   "cell_type": "code",
   "execution_count": 58,
   "id": "alike-terry",
   "metadata": {},
   "outputs": [
    {
     "name": "stdout",
     "output_type": "stream",
     "text": [
      "Epoch 1/5\n",
      "32/32 [==============================] - 0s 2ms/step - loss: 1.6188 - sparse_categorical_accuracy: 0.4894\n",
      "Epoch 2/5\n",
      "32/32 [==============================] - 0s 2ms/step - loss: 0.4625 - sparse_categorical_accuracy: 0.8558\n",
      "Epoch 3/5\n",
      "32/32 [==============================] - 0s 2ms/step - loss: 0.2829 - sparse_categorical_accuracy: 0.9227\n",
      "Epoch 4/5\n",
      "32/32 [==============================] - 0s 2ms/step - loss: 0.2327 - sparse_categorical_accuracy: 0.9445\n",
      "Epoch 5/5\n",
      "32/32 [==============================] - 0s 2ms/step - loss: 0.1390 - sparse_categorical_accuracy: 0.9737\n"
     ]
    }
   ],
   "source": [
    "model = create_model()\n",
    "model.fit(train_images, train_labels, epochs=5)\n",
    "\n",
    "model.save('my_model.h5')"
   ]
  },
  {
   "cell_type": "markdown",
   "id": "smart-arlington",
   "metadata": {},
   "source": [
    "Now, recreate the model from that file:"
   ]
  },
  {
   "cell_type": "code",
   "execution_count": 60,
   "id": "sensitive-fence",
   "metadata": {},
   "outputs": [
    {
     "name": "stdout",
     "output_type": "stream",
     "text": [
      "Model: \"sequential_8\"\n",
      "_________________________________________________________________\n",
      "Layer (type)                 Output Shape              Param #   \n",
      "=================================================================\n",
      "dense_16 (Dense)             (None, 512)               401920    \n",
      "_________________________________________________________________\n",
      "dropout_8 (Dropout)          (None, 512)               0         \n",
      "_________________________________________________________________\n",
      "dense_17 (Dense)             (None, 10)                5130      \n",
      "=================================================================\n",
      "Total params: 407,050\n",
      "Trainable params: 407,050\n",
      "Non-trainable params: 0\n",
      "_________________________________________________________________\n"
     ]
    }
   ],
   "source": [
    "new_model = tf.keras.models.load_model('my_model.h5')\n",
    "\n",
    "new_model.summary()"
   ]
  },
  {
   "cell_type": "markdown",
   "id": "curious-google",
   "metadata": {},
   "source": [
    "Check its accuracy:"
   ]
  },
  {
   "cell_type": "code",
   "execution_count": 61,
   "id": "considerable-supplier",
   "metadata": {
    "scrolled": true
   },
   "outputs": [
    {
     "name": "stdout",
     "output_type": "stream",
     "text": [
      "32/32 - 0s - loss: 0.4285 - sparse_categorical_accuracy: 0.8600\n",
      "Restored model, accuracy: 86.00%\n"
     ]
    }
   ],
   "source": [
    "loss, acc = new_model.evaluate(test_images, test_labels, verbose=2)\n",
    "\n",
    "print('Restored model, accuracy: {:5.2f}%'.format(100*acc))"
   ]
  },
  {
   "cell_type": "markdown",
   "id": "alien-replica",
   "metadata": {},
   "source": [
    "Keras saves models by inspecting their architectures. This technique saves everything:\n",
    "\n",
    "   - The weight values\n",
    "   - The model's architecture\n",
    "   - The model's training configuration (what you pass to the .compile() method)\n",
    "   - The optimizer and its state, if any (this enables you to restart training where you left off)\n",
    "\n",
    "Keras is not able to save the v1.x optimizers (from tf.compat.v1.train) since they aren't compatible with checkpoints. For v1.x optimizers, you need to re-compile the model after loading—losing the state of the optimizer.\n",
    "\n",
    "## Saving custom objects\n",
    "\n",
    "If you are using the SavedModel format, you can skip this section. The key difference between HDF5 and SavedModel is that HDF5 uses object configs to save the model architecture, while SavedModel saves the execution graph. Thus, SavedModels are able to save custom objects like subclassed models and custom layers without requiring the original code.\n",
    "\n",
    "To save custom objects to HDF5, you must do the following:\n",
    "\n",
    "1. Define a get_config method in your object, and optionally a from_config classmethod.\n",
    "\n",
    "   -get_config(self) returns a JSON-serializable dictionary of parameters needed to recreate the object.\n",
    "   -from_config(cls, config) uses the returned config from get_config to create a new object. By default, this function will use the config as initialization kwargs (return cls(**config)).\n",
    "\n",
    "2. Pass the object to the custom_objects argument when loading the model. The argument must be a dictionary mapping the string class name to the Python class. E.g. tf.keras.models.load_model(path, custom_objects={'CustomLayer': CustomLayer})\n",
    "\n",
    "See the Writing layers and models from scratch tutorial for examples of custom objects and get_config."
   ]
  }
 ],
 "metadata": {
  "kernelspec": {
   "display_name": "Python 3",
   "language": "python",
   "name": "python3"
  },
  "language_info": {
   "codemirror_mode": {
    "name": "ipython",
    "version": 3
   },
   "file_extension": ".py",
   "mimetype": "text/x-python",
   "name": "python",
   "nbconvert_exporter": "python",
   "pygments_lexer": "ipython3",
   "version": "3.7.9"
  }
 },
 "nbformat": 4,
 "nbformat_minor": 5
}
